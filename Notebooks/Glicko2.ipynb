{
 "cells": [
  {
   "cell_type": "markdown",
   "id": "d3721fd4-ff98-4060-aade-87eadc466799",
   "metadata": {},
   "source": [
    "###### "
   ]
  },
  {
   "cell_type": "markdown",
   "id": "a0f1a1bb-e623-45f1-8b09-a0b6c76c11e2",
   "metadata": {},
   "source": [
    "###### Overview"
   ]
  },
  {
   "cell_type": "markdown",
   "id": "e713e148-4035-4f66-8004-b13e6234dde9",
   "metadata": {},
   "source": [
    "In this notebook I extract Glicko-2 ratings and rating deviations for the end of every time batch or epoch, whichever is shorter (max 1 year).  This data is converted into a DataFrames and is stored for use in the Glick2Elo notebook."
   ]
  },
  {
   "cell_type": "markdown",
   "id": "845bfd01-95ce-4ad0-9c59-86e029947405",
   "metadata": {},
   "source": [
    "###### Imports"
   ]
  },
  {
   "cell_type": "code",
   "execution_count": 1,
   "id": "cf4b92fa-d27b-47e2-b481-ee6467d87a22",
   "metadata": {},
   "outputs": [],
   "source": [
    "import pandas as pd\n",
    "from functions import assembleDf, epochG, epochsG, ceildiv, splitBatch\n",
    "from datetime import datetime, timedelta\n",
    "import numpy as np\n",
    "import sys\n",
    "sys.path.append('..')\n",
    "from pyglicko2.glicko2_tests import exampleCase\n",
    "from pyglicko2.glicko2 import Player\n",
    "import glicko2\n",
    "import time"
   ]
  },
  {
   "cell_type": "markdown",
   "id": "ff999efa-5586-4e9b-a278-3c2e7b55612f",
   "metadata": {},
   "source": [
    "Read in the data."
   ]
  },
  {
   "cell_type": "code",
   "execution_count": 2,
   "id": "b2967aa4-0a53-4720-9eee-272a296b5dd1",
   "metadata": {},
   "outputs": [],
   "source": [
    "matches = pd.read_csv('../Data/matches_glicko2.csv',\n",
    "                      parse_dates = ['tourney_date'], \n",
    "                      infer_datetime_format = True)"
   ]
  },
  {
   "cell_type": "code",
   "execution_count": 3,
   "id": "3ee27eaa-dd2f-417b-8a43-37ca29707b71",
   "metadata": {
    "tags": []
   },
   "outputs": [
    {
     "data": {
      "text/html": [
       "<div>\n",
       "<style scoped>\n",
       "    .dataframe tbody tr th:only-of-type {\n",
       "        vertical-align: middle;\n",
       "    }\n",
       "\n",
       "    .dataframe tbody tr th {\n",
       "        vertical-align: top;\n",
       "    }\n",
       "\n",
       "    .dataframe thead th {\n",
       "        text-align: right;\n",
       "    }\n",
       "</style>\n",
       "<table border=\"1\" class=\"dataframe\">\n",
       "  <thead>\n",
       "    <tr style=\"text-align: right;\">\n",
       "      <th></th>\n",
       "      <th>tourney_date</th>\n",
       "      <th>winner_id</th>\n",
       "      <th>loser_id</th>\n",
       "      <th>tourney_id</th>\n",
       "    </tr>\n",
       "  </thead>\n",
       "  <tbody>\n",
       "    <tr>\n",
       "      <th>0</th>\n",
       "      <td>1877-07-09</td>\n",
       "      <td>113987</td>\n",
       "      <td>114149</td>\n",
       "      <td>1877-540</td>\n",
       "    </tr>\n",
       "    <tr>\n",
       "      <th>1</th>\n",
       "      <td>1877-07-09</td>\n",
       "      <td>113987</td>\n",
       "      <td>113999</td>\n",
       "      <td>1877-540</td>\n",
       "    </tr>\n",
       "  </tbody>\n",
       "</table>\n",
       "</div>"
      ],
      "text/plain": [
       "  tourney_date  winner_id  loser_id tourney_id\n",
       "0   1877-07-09     113987    114149   1877-540\n",
       "1   1877-07-09     113987    113999   1877-540"
      ]
     },
     "execution_count": 3,
     "metadata": {},
     "output_type": "execute_result"
    }
   ],
   "source": [
    "matches.head(2)"
   ]
  },
  {
   "cell_type": "code",
   "execution_count": 4,
   "id": "6cf64ef1-f95b-4a90-9977-4d70f640d4fc",
   "metadata": {},
   "outputs": [
    {
     "data": {
      "text/plain": [
       "32577"
      ]
     },
     "execution_count": 4,
     "metadata": {},
     "output_type": "execute_result"
    }
   ],
   "source": [
    "# 32577 unique player ids in the matches DataFrame\n",
    "len(set(list(matches['winner_id'].unique())+list(matches['loser_id'].unique())))"
   ]
  },
  {
   "cell_type": "markdown",
   "id": "631737b6-19e6-4df2-a533-428a43a2a03c",
   "metadata": {},
   "source": [
    "Because memory constraints limit the batch size in epochsG, I will need to process the matches incrementally.  Note that this could take a few minutes and is not necessary to run as the results are already stored in the Data folder."
   ]
  },
  {
   "cell_type": "code",
   "execution_count": 5,
   "id": "fffeba42-98f8-42fb-b272-7c02e748852b",
   "metadata": {},
   "outputs": [],
   "source": [
    "# base batches.  can be further broken up by splitBatch\n",
    "eg_batches_50 = [(s,f) for s,f in zip(range(0, 876_978-50_000,50_000),\n",
    "                      range(50_000, 876978,50_000))] + [(850_000,876979)]\n",
    "eg_batches_100 = [(s,f) for s,f in zip(range(0, 876_978-100_000,100_000),\n",
    "                      range(100_000, 876978,100_000))] + [(800_000,876979)]\n",
    "\n",
    "ratings_histories = []\n",
    "players_dict = {}"
   ]
  },
  {
   "cell_type": "code",
   "execution_count": 6,
   "id": "af20da6a-1b3e-450d-a2ad-5ca55b5b747b",
   "metadata": {
    "tags": []
   },
   "outputs": [
    {
     "name": "stdout",
     "output_type": "stream",
     "text": [
      "CPU times: user 19 s, sys: 403 ms, total: 19.4 s\n",
      "Wall time: 19.3 s\n"
     ]
    }
   ],
   "source": [
    "%%time\n",
    "for batch in eg_batches_50[0:3]:\n",
    "    players_dict,rh = epochsG(matches[batch[0]:batch[1]],players_dict,365)\n",
    "    ratings_histories += [rh]"
   ]
  },
  {
   "cell_type": "code",
   "execution_count": 7,
   "id": "f426d581-9f2d-40e5-90a1-ba263df96c37",
   "metadata": {},
   "outputs": [
    {
     "data": {
      "text/plain": [
       "(150000, 200000)"
      ]
     },
     "execution_count": 7,
     "metadata": {},
     "output_type": "execute_result"
    }
   ],
   "source": [
    "eg_batches_50[3]"
   ]
  },
  {
   "cell_type": "code",
   "execution_count": 8,
   "id": "2230a32e-5541-4fef-ab44-0d686cc928a1",
   "metadata": {},
   "outputs": [
    {
     "data": {
      "text/plain": [
       "[(150000, 175000), (175000, 200000)]"
      ]
     },
     "execution_count": 8,
     "metadata": {},
     "output_type": "execute_result"
    }
   ],
   "source": [
    "b = splitBatch(eg_batches_50[3],2); b0 = b[0]; b1 = b[1]\n",
    "b"
   ]
  },
  {
   "cell_type": "code",
   "execution_count": 9,
   "id": "6fcbf7e1-42c3-4c41-aadc-cb2812ea7bca",
   "metadata": {},
   "outputs": [
    {
     "name": "stdout",
     "output_type": "stream",
     "text": [
      "CPU times: user 1.98 s, sys: 38.3 ms, total: 2.02 s\n",
      "Wall time: 2.02 s\n"
     ]
    }
   ],
   "source": [
    "%%time\n",
    "players_dict,rh = epochsG(matches[b0[0]:b0[1]],players_dict,365)\n",
    "ratings_histories += [rh]"
   ]
  },
  {
   "cell_type": "code",
   "execution_count": 10,
   "id": "19bca57a-1a8f-4a12-9904-3389c83f7e2e",
   "metadata": {},
   "outputs": [
    {
     "name": "stdout",
     "output_type": "stream",
     "text": [
      "CPU times: user 1.96 s, sys: 37.1 ms, total: 2 s\n",
      "Wall time: 2 s\n"
     ]
    }
   ],
   "source": [
    "%%time\n",
    "players_dict,rh = epochsG(matches[b1[0]:b1[1]],players_dict,365)\n",
    "ratings_histories += [rh]"
   ]
  },
  {
   "cell_type": "code",
   "execution_count": 11,
   "id": "050ad11e-03ca-48db-9074-be7b0d026045",
   "metadata": {},
   "outputs": [
    {
     "data": {
      "text/plain": [
       "[(200000, 216667), (216667, 233334), (233334, 250000)]"
      ]
     },
     "execution_count": 11,
     "metadata": {},
     "output_type": "execute_result"
    }
   ],
   "source": [
    "splitBatch(eg_batches_50[4],3)"
   ]
  },
  {
   "cell_type": "code",
   "execution_count": 12,
   "id": "59bde9da-8f6b-45ca-9eda-f72e5331df66",
   "metadata": {},
   "outputs": [
    {
     "data": {
      "text/plain": [
       "[(200000, 212500), (212500, 225000), (225000, 237500), (237500, 250000)]"
      ]
     },
     "execution_count": 12,
     "metadata": {},
     "output_type": "execute_result"
    }
   ],
   "source": [
    "b = splitBatch(eg_batches_50[4],4); \n",
    "b0 = b[0]; b1 = b[1]; b2 = b[2]; b3=b[3]\n",
    "b"
   ]
  },
  {
   "cell_type": "code",
   "execution_count": 13,
   "id": "cfb0c928-c9de-4784-b281-64f95ea60431",
   "metadata": {},
   "outputs": [
    {
     "name": "stdout",
     "output_type": "stream",
     "text": [
      "CPU times: user 1.08 s, sys: 21.8 ms, total: 1.1 s\n",
      "Wall time: 1.1 s\n"
     ]
    }
   ],
   "source": [
    "%%time\n",
    "players_dict,rh = epochsG(matches[b0[0]:b0[1]],players_dict,365)\n",
    "ratings_histories += [rh]"
   ]
  },
  {
   "cell_type": "code",
   "execution_count": 14,
   "id": "230a9d81-edf0-41f8-9e29-c81b230d8c0c",
   "metadata": {},
   "outputs": [
    {
     "name": "stdout",
     "output_type": "stream",
     "text": [
      "CPU times: user 1.04 s, sys: 22.7 ms, total: 1.06 s\n",
      "Wall time: 1.06 s\n"
     ]
    }
   ],
   "source": [
    "%%time\n",
    "players_dict,rh = epochsG(matches[b1[0]:b1[1]],players_dict,365)\n",
    "ratings_histories += [rh]"
   ]
  },
  {
   "cell_type": "code",
   "execution_count": 15,
   "id": "983574f2-d9ab-4c07-bc36-5980c16c014e",
   "metadata": {
    "tags": []
   },
   "outputs": [
    {
     "name": "stdout",
     "output_type": "stream",
     "text": [
      "CPU times: user 1.04 s, sys: 23.6 ms, total: 1.06 s\n",
      "Wall time: 1.06 s\n"
     ]
    }
   ],
   "source": [
    "%%time\n",
    "players_dict,rh = epochsG(matches[b2[0]:b2[1]],players_dict,365)\n",
    "ratings_histories += [rh]"
   ]
  },
  {
   "cell_type": "code",
   "execution_count": 16,
   "id": "01a09cf6-72f4-4587-b7cb-5fe4f9a4eaa5",
   "metadata": {},
   "outputs": [
    {
     "name": "stdout",
     "output_type": "stream",
     "text": [
      "CPU times: user 1.13 s, sys: 24.4 ms, total: 1.15 s\n",
      "Wall time: 1.15 s\n"
     ]
    }
   ],
   "source": [
    "%%time\n",
    "players_dict,rh = epochsG(matches[b3[0]:b3[1]],players_dict,365)\n",
    "ratings_histories += [rh]"
   ]
  },
  {
   "cell_type": "code",
   "execution_count": 17,
   "id": "ba29ceee-6153-4739-bd22-e86418db5ba3",
   "metadata": {},
   "outputs": [
    {
     "name": "stdout",
     "output_type": "stream",
     "text": [
      "CPU times: user 3.83 s, sys: 59.2 ms, total: 3.89 s\n",
      "Wall time: 3.89 s\n"
     ]
    }
   ],
   "source": [
    "%%time\n",
    "players_dict,rh = epochsG(matches[eg_batches_50[5][0]:eg_batches_50[5][1]],players_dict,365)\n",
    "ratings_histories += [rh]"
   ]
  },
  {
   "cell_type": "code",
   "execution_count": 18,
   "id": "d152b9e4-17d2-4bfd-b08c-4454e34cea85",
   "metadata": {},
   "outputs": [
    {
     "data": {
      "text/plain": [
       "[(300000, 306250),\n",
       " (306250, 312500),\n",
       " (312500, 318750),\n",
       " (318750, 325000),\n",
       " (325000, 331250),\n",
       " (331250, 337500),\n",
       " (337500, 343750),\n",
       " (343750, 350000)]"
      ]
     },
     "execution_count": 18,
     "metadata": {},
     "output_type": "execute_result"
    }
   ],
   "source": [
    "b = splitBatch(eg_batches_50[6],8); \n",
    "b0 = b[0]; b1 = b[1]; b2 = b[2]; b3=b[3];\n",
    "b4 = b[0]; b5 = b[1]; b6 = b[2]; b7=b[3]\n",
    "b"
   ]
  },
  {
   "cell_type": "code",
   "execution_count": 19,
   "id": "e5b64d9e-4a97-45bd-b1af-c5cb53ef153c",
   "metadata": {
    "tags": []
   },
   "outputs": [
    {
     "name": "stdout",
     "output_type": "stream",
     "text": [
      "CPU times: user 819 ms, sys: 18.6 ms, total: 837 ms\n",
      "Wall time: 836 ms\n"
     ]
    }
   ],
   "source": [
    "%%time\n",
    "players_dict,rh = epochsG(matches[b0[0]:b0[1]],players_dict,365)\n",
    "ratings_histories += [rh]"
   ]
  },
  {
   "cell_type": "code",
   "execution_count": 20,
   "id": "8b9fe101-5e54-44d5-9449-77840ccd9391",
   "metadata": {
    "tags": []
   },
   "outputs": [
    {
     "name": "stdout",
     "output_type": "stream",
     "text": [
      "CPU times: user 873 ms, sys: 16.3 ms, total: 890 ms\n",
      "Wall time: 888 ms\n"
     ]
    }
   ],
   "source": [
    "%%time\n",
    "players_dict,rh = epochsG(matches[b1[0]:b1[1]],players_dict,365)\n",
    "ratings_histories += [rh]"
   ]
  },
  {
   "cell_type": "code",
   "execution_count": 21,
   "id": "9caebb0a-a09b-40cb-939d-bf59fabbf46d",
   "metadata": {
    "tags": []
   },
   "outputs": [
    {
     "name": "stdout",
     "output_type": "stream",
     "text": [
      "CPU times: user 750 ms, sys: 21.1 ms, total: 772 ms\n",
      "Wall time: 765 ms\n"
     ]
    }
   ],
   "source": [
    "%%time\n",
    "players_dict,rh = epochsG(matches[b2[0]:b2[1]],players_dict,365)\n",
    "ratings_histories += [rh]"
   ]
  },
  {
   "cell_type": "code",
   "execution_count": 22,
   "id": "ea7f7ab6-e25e-459c-ac3c-748a54e975dd",
   "metadata": {},
   "outputs": [
    {
     "name": "stdout",
     "output_type": "stream",
     "text": [
      "CPU times: user 829 ms, sys: 19 ms, total: 848 ms\n",
      "Wall time: 846 ms\n"
     ]
    }
   ],
   "source": [
    "%%time\n",
    "players_dict,rh = epochsG(matches[b3[0]:b3[1]],players_dict,365)\n",
    "ratings_histories += [rh]"
   ]
  },
  {
   "cell_type": "code",
   "execution_count": 23,
   "id": "efc422fc-8e20-4525-956b-940107256413",
   "metadata": {
    "tags": []
   },
   "outputs": [
    {
     "name": "stdout",
     "output_type": "stream",
     "text": [
      "CPU times: user 879 ms, sys: 31.1 ms, total: 910 ms\n",
      "Wall time: 896 ms\n"
     ]
    }
   ],
   "source": [
    "%%time\n",
    "players_dict,rh = epochsG(matches[b4[0]:b4[1]],players_dict,365)\n",
    "ratings_histories += [rh]"
   ]
  },
  {
   "cell_type": "code",
   "execution_count": 24,
   "id": "a41cc1d3-5c03-4da7-94d2-a538020d77fe",
   "metadata": {
    "tags": []
   },
   "outputs": [
    {
     "name": "stdout",
     "output_type": "stream",
     "text": [
      "CPU times: user 875 ms, sys: 17.7 ms, total: 892 ms\n",
      "Wall time: 890 ms\n"
     ]
    }
   ],
   "source": [
    "%%time\n",
    "players_dict,rh = epochsG(matches[b5[0]:b5[1]],players_dict,365)\n",
    "ratings_histories += [rh]"
   ]
  },
  {
   "cell_type": "code",
   "execution_count": 25,
   "id": "7fbf2aaf-01ae-45df-bc93-6bc01ba3bb31",
   "metadata": {
    "tags": []
   },
   "outputs": [
    {
     "name": "stdout",
     "output_type": "stream",
     "text": [
      "CPU times: user 746 ms, sys: 17.7 ms, total: 764 ms\n",
      "Wall time: 763 ms\n"
     ]
    }
   ],
   "source": [
    "%%time\n",
    "players_dict,rh = epochsG(matches[b6[0]:b6[1]],players_dict,365)\n",
    "ratings_histories += [rh]"
   ]
  },
  {
   "cell_type": "code",
   "execution_count": 26,
   "id": "2b063edd-aae7-473f-8276-6e9419a11615",
   "metadata": {},
   "outputs": [
    {
     "name": "stdout",
     "output_type": "stream",
     "text": [
      "CPU times: user 842 ms, sys: 22.2 ms, total: 864 ms\n",
      "Wall time: 860 ms\n"
     ]
    }
   ],
   "source": [
    "%%time\n",
    "players_dict,rh = epochsG(matches[b7[0]:b7[1]],players_dict,365)\n",
    "ratings_histories += [rh]"
   ]
  },
  {
   "cell_type": "code",
   "execution_count": 27,
   "id": "d9cc3bd0-8741-426c-8f8a-f4e1de6e11fd",
   "metadata": {},
   "outputs": [],
   "source": [
    "b = splitBatch(eg_batches_50[7],7); \n",
    "b0 = b[0]; b1 = b[1]; b2 = b[2]; b3 = b[3]; b4 = b[4]; b5 = b[5];\n",
    "b6 = b[6]\n"
   ]
  },
  {
   "cell_type": "code",
   "execution_count": 28,
   "id": "651bb210-ae5e-42e5-b0cf-82fb2e8f2806",
   "metadata": {},
   "outputs": [
    {
     "name": "stdout",
     "output_type": "stream",
     "text": [
      "CPU times: user 904 ms, sys: 17.5 ms, total: 921 ms\n",
      "Wall time: 920 ms\n"
     ]
    }
   ],
   "source": [
    "%%time\n",
    "players_dict,rh = epochsG(matches[b0[0]:b0[1]],players_dict,365)\n",
    "ratings_histories += [rh]"
   ]
  },
  {
   "cell_type": "code",
   "execution_count": 29,
   "id": "8f87f868-9e0c-401b-90f6-ef31f3f819ba",
   "metadata": {
    "tags": []
   },
   "outputs": [
    {
     "name": "stdout",
     "output_type": "stream",
     "text": [
      "CPU times: user 889 ms, sys: 21.9 ms, total: 911 ms\n",
      "Wall time: 906 ms\n"
     ]
    }
   ],
   "source": [
    "%%time\n",
    "players_dict,rh = epochsG(matches[b1[0]:b1[1]],players_dict,365)\n",
    "ratings_histories += [rh]"
   ]
  },
  {
   "cell_type": "code",
   "execution_count": 30,
   "id": "358444a2-1366-4dbe-a188-2d3703bbd469",
   "metadata": {},
   "outputs": [
    {
     "name": "stdout",
     "output_type": "stream",
     "text": [
      "CPU times: user 935 ms, sys: 20.2 ms, total: 955 ms\n",
      "Wall time: 952 ms\n"
     ]
    }
   ],
   "source": [
    "%%time\n",
    "players_dict,rh = epochsG(matches[b2[0]:b2[1]],players_dict,365)\n",
    "ratings_histories += [rh]"
   ]
  },
  {
   "cell_type": "code",
   "execution_count": 31,
   "id": "a4630d52-f693-4c8c-98bf-8f51eb6b533c",
   "metadata": {},
   "outputs": [
    {
     "name": "stdout",
     "output_type": "stream",
     "text": [
      "CPU times: user 940 ms, sys: 22.1 ms, total: 962 ms\n",
      "Wall time: 956 ms\n"
     ]
    }
   ],
   "source": [
    "%%time\n",
    "players_dict,rh = epochsG(matches[b2[0]:b2[1]],players_dict,365)\n",
    "ratings_histories += [rh]"
   ]
  },
  {
   "cell_type": "code",
   "execution_count": 32,
   "id": "673c98c2-bc15-4d1b-9a65-302d656f8490",
   "metadata": {
    "tags": []
   },
   "outputs": [
    {
     "name": "stdout",
     "output_type": "stream",
     "text": [
      "CPU times: user 947 ms, sys: 21 ms, total: 968 ms\n",
      "Wall time: 965 ms\n"
     ]
    }
   ],
   "source": [
    "%%time\n",
    "players_dict,rh = epochsG(matches[b3[0]:b3[1]],players_dict,365)\n",
    "ratings_histories += [rh]"
   ]
  },
  {
   "cell_type": "code",
   "execution_count": 33,
   "id": "14387111-1685-41b5-b839-266bb2abaa97",
   "metadata": {},
   "outputs": [
    {
     "name": "stdout",
     "output_type": "stream",
     "text": [
      "CPU times: user 851 ms, sys: 17.2 ms, total: 868 ms\n",
      "Wall time: 867 ms\n"
     ]
    }
   ],
   "source": [
    "%%time\n",
    "players_dict,rh = epochsG(matches[b4[0]:b4[1]],players_dict,365)\n",
    "ratings_histories += [rh]"
   ]
  },
  {
   "cell_type": "code",
   "execution_count": 34,
   "id": "716738d1-aea3-472f-95ef-f95d19483006",
   "metadata": {},
   "outputs": [
    {
     "name": "stdout",
     "output_type": "stream",
     "text": [
      "CPU times: user 1 s, sys: 24.8 ms, total: 1.03 s\n",
      "Wall time: 1.02 s\n"
     ]
    }
   ],
   "source": [
    "%%time\n",
    "players_dict,rh = epochsG(matches[b5[0]:b5[1]],players_dict,365)\n",
    "ratings_histories += [rh]"
   ]
  },
  {
   "cell_type": "code",
   "execution_count": 35,
   "id": "1c43096e-585f-4811-bac8-590c294abac6",
   "metadata": {},
   "outputs": [
    {
     "name": "stdout",
     "output_type": "stream",
     "text": [
      "CPU times: user 966 ms, sys: 17.4 ms, total: 984 ms\n",
      "Wall time: 983 ms\n"
     ]
    }
   ],
   "source": [
    "%%time\n",
    "players_dict,rh = epochsG(matches[b6[0]:b6[1]],players_dict,365)\n",
    "ratings_histories += [rh]"
   ]
  },
  {
   "cell_type": "code",
   "execution_count": 36,
   "id": "0e73704b-08db-4d7e-8053-badeea09f1cd",
   "metadata": {},
   "outputs": [
    {
     "data": {
      "text/plain": [
       "[(400000, 425000), (425000, 450000)]"
      ]
     },
     "execution_count": 36,
     "metadata": {},
     "output_type": "execute_result"
    }
   ],
   "source": [
    "b = splitBatch(eg_batches_50[8],2); b0 = b[0]; b1 = b[1]\n",
    "b"
   ]
  },
  {
   "cell_type": "code",
   "execution_count": 37,
   "id": "f5337919-fab7-4187-9265-03e48bf1695c",
   "metadata": {},
   "outputs": [
    {
     "name": "stdout",
     "output_type": "stream",
     "text": [
      "CPU times: user 2.12 s, sys: 51.5 ms, total: 2.17 s\n",
      "Wall time: 2.16 s\n"
     ]
    }
   ],
   "source": [
    "%%time\n",
    "players_dict,rh = epochsG(matches[b0[0]:b0[1]],players_dict,365)\n",
    "ratings_histories += [rh]"
   ]
  },
  {
   "cell_type": "code",
   "execution_count": 38,
   "id": "57823a6e-68ac-4c3e-8bfb-a7414c7120db",
   "metadata": {},
   "outputs": [
    {
     "name": "stdout",
     "output_type": "stream",
     "text": [
      "CPU times: user 1.92 s, sys: 49.1 ms, total: 1.97 s\n",
      "Wall time: 1.96 s\n"
     ]
    }
   ],
   "source": [
    "%%time\n",
    "players_dict,rh = epochsG(matches[b1[0]:b1[1]],players_dict,365)\n",
    "ratings_histories += [rh]"
   ]
  },
  {
   "cell_type": "code",
   "execution_count": 39,
   "id": "27dd6f4e-ed21-4045-a9e0-253ab1cd7d94",
   "metadata": {
    "tags": []
   },
   "outputs": [
    {
     "data": {
      "text/plain": [
       "[(450000, 456250),\n",
       " (456250, 462500),\n",
       " (462500, 468750),\n",
       " (468750, 475000),\n",
       " (475000, 481250),\n",
       " (481250, 487500),\n",
       " (487500, 493750),\n",
       " (493750, 500000)]"
      ]
     },
     "execution_count": 39,
     "metadata": {},
     "output_type": "execute_result"
    }
   ],
   "source": [
    "b = splitBatch(eg_batches_50[9],8); b0 = b[0]; b1 = b[1]; \n",
    "b2 = b[2];b3 = b[3];b4 =b[4]; b5 = b[5]; b6 = b[6]; b7 = b[7]\n",
    "b"
   ]
  },
  {
   "cell_type": "code",
   "execution_count": 40,
   "id": "63bb6137-a49c-474f-900d-260a2333853d",
   "metadata": {},
   "outputs": [
    {
     "name": "stdout",
     "output_type": "stream",
     "text": [
      "CPU times: user 850 ms, sys: 18.9 ms, total: 869 ms\n",
      "Wall time: 868 ms\n"
     ]
    }
   ],
   "source": [
    "%%time\n",
    "players_dict,rh = epochsG(matches[b0[0]:b0[1]],players_dict,365)\n",
    "ratings_histories += [rh]"
   ]
  },
  {
   "cell_type": "code",
   "execution_count": 41,
   "id": "20c2dbe8-8677-4122-9f86-e9b8f9a05b60",
   "metadata": {
    "tags": []
   },
   "outputs": [
    {
     "name": "stdout",
     "output_type": "stream",
     "text": [
      "CPU times: user 994 ms, sys: 23.5 ms, total: 1.02 s\n",
      "Wall time: 1.01 s\n"
     ]
    }
   ],
   "source": [
    "%%time\n",
    "players_dict,rh = epochsG(matches[b1[0]:b1[1]],players_dict,365)\n",
    "ratings_histories += [rh]"
   ]
  },
  {
   "cell_type": "code",
   "execution_count": 42,
   "id": "eb05dbb7-10f2-4c62-935b-ae501b72afd2",
   "metadata": {},
   "outputs": [],
   "source": [
    "b = splitBatch(b2,2)\n",
    "b2_0 = b[0]; b2_1 = b[1];"
   ]
  },
  {
   "cell_type": "code",
   "execution_count": 43,
   "id": "2cc18dbb-ba00-4e11-b15e-afd4337876e5",
   "metadata": {
    "tags": []
   },
   "outputs": [
    {
     "name": "stdout",
     "output_type": "stream",
     "text": [
      "CPU times: user 759 ms, sys: 23.8 ms, total: 783 ms\n",
      "Wall time: 774 ms\n"
     ]
    }
   ],
   "source": [
    "%%time\n",
    "players_dict,rh = epochsG(matches[b2_0[0]:b2_0[1]],players_dict,365)\n",
    "ratings_histories += [rh]"
   ]
  },
  {
   "cell_type": "code",
   "execution_count": 44,
   "id": "44afda25-7a05-4451-8ae5-bc47bf95be7b",
   "metadata": {},
   "outputs": [
    {
     "name": "stdout",
     "output_type": "stream",
     "text": [
      "CPU times: user 781 ms, sys: 27 ms, total: 808 ms\n",
      "Wall time: 793 ms\n"
     ]
    }
   ],
   "source": [
    "%%time\n",
    "players_dict,rh = epochsG(matches[b2_1[0]:b2_1[1]],players_dict,365)\n",
    "ratings_histories += [rh]"
   ]
  },
  {
   "cell_type": "code",
   "execution_count": 45,
   "id": "89c3b12d-4b0f-4315-b0ad-bf63690d2953",
   "metadata": {},
   "outputs": [
    {
     "name": "stdout",
     "output_type": "stream",
     "text": [
      "CPU times: user 909 ms, sys: 19.9 ms, total: 929 ms\n",
      "Wall time: 926 ms\n"
     ]
    }
   ],
   "source": [
    "%%time\n",
    "players_dict,rh = epochsG(matches[b3[0]:b3[1]],players_dict,365)\n",
    "ratings_histories += [rh]"
   ]
  },
  {
   "cell_type": "code",
   "execution_count": 46,
   "id": "0b172659-c6db-4796-ab36-a662509f7d32",
   "metadata": {},
   "outputs": [
    {
     "name": "stdout",
     "output_type": "stream",
     "text": [
      "CPU times: user 820 ms, sys: 16.7 ms, total: 837 ms\n",
      "Wall time: 835 ms\n"
     ]
    }
   ],
   "source": [
    "%%time\n",
    "players_dict,rh = epochsG(matches[b4[0]:b4[1]],players_dict,365)\n",
    "ratings_histories += [rh]"
   ]
  },
  {
   "cell_type": "code",
   "execution_count": 47,
   "id": "0451c265-fd8c-4dae-a903-d5a4e8c7638a",
   "metadata": {},
   "outputs": [
    {
     "name": "stdout",
     "output_type": "stream",
     "text": [
      "CPU times: user 960 ms, sys: 22.6 ms, total: 983 ms\n",
      "Wall time: 980 ms\n"
     ]
    }
   ],
   "source": [
    "%%time\n",
    "players_dict,rh = epochsG(matches[b5[0]:b5[1]],players_dict,365)\n",
    "ratings_histories += [rh]"
   ]
  },
  {
   "cell_type": "code",
   "execution_count": 48,
   "id": "76a99fc2-77fb-4cd8-b94c-d4773897829f",
   "metadata": {},
   "outputs": [
    {
     "name": "stdout",
     "output_type": "stream",
     "text": [
      "CPU times: user 1.01 s, sys: 22.1 ms, total: 1.03 s\n",
      "Wall time: 1.03 s\n"
     ]
    }
   ],
   "source": [
    "%%time\n",
    "players_dict,rh = epochsG(matches[b6[0]:b6[1]],players_dict,365)\n",
    "ratings_histories += [rh]"
   ]
  },
  {
   "cell_type": "code",
   "execution_count": 49,
   "id": "b61fe68d-9a2a-4195-9eb0-303effdf20a0",
   "metadata": {},
   "outputs": [
    {
     "name": "stdout",
     "output_type": "stream",
     "text": [
      "CPU times: user 977 ms, sys: 19.6 ms, total: 997 ms\n",
      "Wall time: 996 ms\n"
     ]
    }
   ],
   "source": [
    "%%time\n",
    "players_dict,rh = epochsG(matches[b7[0]:b7[1]],players_dict,365)\n",
    "ratings_histories += [rh]"
   ]
  },
  {
   "cell_type": "code",
   "execution_count": null,
   "id": "fd12d67c-e4ad-4910-ac85-11f9be04bb49",
   "metadata": {},
   "outputs": [],
   "source": []
  },
  {
   "cell_type": "code",
   "execution_count": 50,
   "id": "b4f7c2b1-f7ef-4bd4-85c5-3a0c26d3e5d1",
   "metadata": {},
   "outputs": [
    {
     "data": {
      "text/plain": [
       "[(500000, 525000), (525000, 550000)]"
      ]
     },
     "execution_count": 50,
     "metadata": {},
     "output_type": "execute_result"
    }
   ],
   "source": [
    "b = splitBatch(eg_batches_50[10],2); b0 = b[0]; b1 = b[1]\n",
    "b"
   ]
  },
  {
   "cell_type": "code",
   "execution_count": 51,
   "id": "07285360-5968-447d-99c4-87c74106b018",
   "metadata": {},
   "outputs": [
    {
     "name": "stdout",
     "output_type": "stream",
     "text": [
      "CPU times: user 1.85 s, sys: 27.8 ms, total: 1.88 s\n",
      "Wall time: 1.88 s\n"
     ]
    }
   ],
   "source": [
    "%%time\n",
    "players_dict,rh = epochsG(matches[b0[0]:b0[1]],players_dict,365)\n",
    "ratings_histories += [rh]"
   ]
  },
  {
   "cell_type": "code",
   "execution_count": 52,
   "id": "c67267c5-6aac-4d48-9d48-f74f6daa9804",
   "metadata": {},
   "outputs": [
    {
     "name": "stdout",
     "output_type": "stream",
     "text": [
      "CPU times: user 1.93 s, sys: 41.2 ms, total: 1.97 s\n",
      "Wall time: 1.97 s\n"
     ]
    }
   ],
   "source": [
    "%%time\n",
    "players_dict,rh = epochsG(matches[b1[0]:b1[1]],players_dict,365)\n",
    "ratings_histories += [rh]"
   ]
  },
  {
   "cell_type": "code",
   "execution_count": 53,
   "id": "42f6f8ce-3ab7-4897-b050-cbac584ddc08",
   "metadata": {},
   "outputs": [
    {
     "data": {
      "text/plain": [
       "[(550000, 560000),\n",
       " (560000, 570000),\n",
       " (570000, 580000),\n",
       " (580000, 590000),\n",
       " (590000, 600000)]"
      ]
     },
     "execution_count": 53,
     "metadata": {},
     "output_type": "execute_result"
    }
   ],
   "source": [
    "b = splitBatch(eg_batches_50[11],5); b0 = b[0]; b1 = b[1];\n",
    "b2 = b[2]; b3 = b[3];b4 = b[4];\n",
    "b"
   ]
  },
  {
   "cell_type": "code",
   "execution_count": 54,
   "id": "3c5beb50-54ec-4af6-9eeb-a7c42d453d54",
   "metadata": {},
   "outputs": [
    {
     "name": "stdout",
     "output_type": "stream",
     "text": [
      "CPU times: user 1.09 s, sys: 25.9 ms, total: 1.11 s\n",
      "Wall time: 1.11 s\n"
     ]
    }
   ],
   "source": [
    "%%time\n",
    "players_dict,rh = epochsG(matches[b0[0]:b0[1]],players_dict,365)\n",
    "ratings_histories += [rh]"
   ]
  },
  {
   "cell_type": "code",
   "execution_count": 55,
   "id": "8d7a88a3-b215-4ecf-9bdf-781cb35fd16f",
   "metadata": {},
   "outputs": [],
   "source": [
    "b = splitBatch(b1,2)\n",
    "b1_0 = b[0]; b1_1 = b[1];"
   ]
  },
  {
   "cell_type": "code",
   "execution_count": 56,
   "id": "f8b8d82e-277c-499e-93d8-5472b973a57c",
   "metadata": {},
   "outputs": [
    {
     "name": "stdout",
     "output_type": "stream",
     "text": [
      "CPU times: user 937 ms, sys: 26.4 ms, total: 963 ms\n",
      "Wall time: 957 ms\n"
     ]
    }
   ],
   "source": [
    "%%time\n",
    "players_dict,rh = epochsG(matches[b1_0[0]:b1_0[1]],players_dict,365)\n",
    "ratings_histories += [rh]"
   ]
  },
  {
   "cell_type": "code",
   "execution_count": 57,
   "id": "b32e49b8-9993-4180-bb67-c2aa97fda835",
   "metadata": {},
   "outputs": [
    {
     "name": "stdout",
     "output_type": "stream",
     "text": [
      "ZeroDivisionError\n",
      "105613\n",
      "<pyglicko2.glicko2.Player object at 0x7fee706a7eb0>\n",
      "CPU times: user 879 ms, sys: 23.9 ms, total: 903 ms\n",
      "Wall time: 897 ms\n"
     ]
    }
   ],
   "source": [
    "%%time\n",
    "players_dict,rh = epochsG(matches[b1_1[0]:b1_1[1]],players_dict,365)\n",
    "ratings_histories += [rh]"
   ]
  },
  {
   "cell_type": "code",
   "execution_count": 58,
   "id": "6524f486-53fb-4ae5-af59-f4c10874b9f9",
   "metadata": {},
   "outputs": [
    {
     "name": "stdout",
     "output_type": "stream",
     "text": [
      "ZeroDivisionError\n",
      "105613\n",
      "<pyglicko2.glicko2.Player object at 0x7fee706a7eb0>\n",
      "CPU times: user 1.13 s, sys: 24.7 ms, total: 1.15 s\n",
      "Wall time: 1.15 s\n"
     ]
    }
   ],
   "source": [
    "%%time\n",
    "players_dict,rh = epochsG(matches[b2[0]:b2[1]],players_dict,365)\n",
    "ratings_histories += [rh]"
   ]
  },
  {
   "cell_type": "code",
   "execution_count": 59,
   "id": "62505444-3ef4-4c29-b453-0f78387d34ce",
   "metadata": {
    "tags": []
   },
   "outputs": [
    {
     "name": "stdout",
     "output_type": "stream",
     "text": [
      "ZeroDivisionError\n",
      "105613\n",
      "<pyglicko2.glicko2.Player object at 0x7fee706a7eb0>\n",
      "CPU times: user 1.13 s, sys: 27.5 ms, total: 1.16 s\n",
      "Wall time: 1.16 s\n"
     ]
    }
   ],
   "source": [
    "%%time\n",
    "players_dict,rh = epochsG(matches[b3[0]:b3[1]],players_dict,365)\n",
    "ratings_histories += [rh]"
   ]
  },
  {
   "cell_type": "code",
   "execution_count": 60,
   "id": "1c4a5e2c-64a4-4828-9699-ba9815454ad6",
   "metadata": {
    "tags": []
   },
   "outputs": [
    {
     "name": "stdout",
     "output_type": "stream",
     "text": [
      "ZeroDivisionError\n",
      "105613\n",
      "<pyglicko2.glicko2.Player object at 0x7fee706a7eb0>\n",
      "CPU times: user 1.17 s, sys: 24.8 ms, total: 1.2 s\n",
      "Wall time: 1.2 s\n"
     ]
    }
   ],
   "source": [
    "%%time\n",
    "players_dict,rh = epochsG(matches[b4[0]:b4[1]],players_dict,365)\n",
    "ratings_histories += [rh]"
   ]
  },
  {
   "cell_type": "code",
   "execution_count": 61,
   "id": "538078d9-e58f-4664-9528-5866072913cb",
   "metadata": {
    "tags": []
   },
   "outputs": [
    {
     "name": "stdout",
     "output_type": "stream",
     "text": [
      "ZeroDivisionError\n",
      "105613\n",
      "<pyglicko2.glicko2.Player object at 0x7fee706a7eb0>\n",
      "ZeroDivisionError\n",
      "105613\n",
      "<pyglicko2.glicko2.Player object at 0x7fee706a7eb0>\n",
      "CPU times: user 3.54 s, sys: 72.5 ms, total: 3.61 s\n",
      "Wall time: 3.61 s\n"
     ]
    }
   ],
   "source": [
    "%%time\n",
    "players_dict,rh = epochsG(matches[eg_batches_50[12][0]:eg_batches_50[12][1]],players_dict,365)\n",
    "ratings_histories += [rh]"
   ]
  },
  {
   "cell_type": "code",
   "execution_count": 62,
   "id": "1c10de8f-d383-4dbb-93b2-65b688234fee",
   "metadata": {
    "tags": []
   },
   "outputs": [
    {
     "name": "stdout",
     "output_type": "stream",
     "text": [
      "OverflowError\n",
      "111786\n",
      "<pyglicko2.glicko2.Player object at 0x7fee61af8b20>\n",
      "ZeroDivisionError\n",
      "105613\n",
      "<pyglicko2.glicko2.Player object at 0x7fee706a7eb0>\n",
      "CPU times: user 3.69 s, sys: 77.5 ms, total: 3.77 s\n",
      "Wall time: 3.76 s\n"
     ]
    }
   ],
   "source": [
    "%%time\n",
    "players_dict,rh = epochsG(matches[eg_batches_50[13][0]:eg_batches_50[13][1]],players_dict,365)\n",
    "ratings_histories += [rh]"
   ]
  },
  {
   "cell_type": "code",
   "execution_count": 63,
   "id": "af4ae5f3-62bb-4d0d-a269-857e15057d3b",
   "metadata": {},
   "outputs": [
    {
     "data": {
      "text/plain": [
       "[(700000, 725000), (725000, 750000)]"
      ]
     },
     "execution_count": 63,
     "metadata": {},
     "output_type": "execute_result"
    }
   ],
   "source": [
    "b = splitBatch(eg_batches_50[14],2); b0 = b[0]; b1 = b[1]\n",
    "b"
   ]
  },
  {
   "cell_type": "code",
   "execution_count": 64,
   "id": "914da7d3-f638-4011-b41c-0dff98534f93",
   "metadata": {},
   "outputs": [
    {
     "name": "stdout",
     "output_type": "stream",
     "text": [
      "ZeroDivisionError\n",
      "105613\n",
      "<pyglicko2.glicko2.Player object at 0x7fee706a7eb0>\n",
      "CPU times: user 1.74 s, sys: 34.7 ms, total: 1.78 s\n",
      "Wall time: 1.78 s\n"
     ]
    }
   ],
   "source": [
    "%%time\n",
    "players_dict,rh = epochsG(matches[b0[0]:b0[1]],players_dict,365)\n",
    "ratings_histories += [rh]"
   ]
  },
  {
   "cell_type": "code",
   "execution_count": 65,
   "id": "92feef71-fc3b-49da-becb-4c7c8475ac3f",
   "metadata": {},
   "outputs": [],
   "source": [
    "b_1 = splitBatch(b1,2)\n",
    "b_10=b_1[0];b_11=b_1[1]"
   ]
  },
  {
   "cell_type": "code",
   "execution_count": 66,
   "id": "27c065f9-d84a-4d92-873c-ee8de144d712",
   "metadata": {},
   "outputs": [
    {
     "name": "stdout",
     "output_type": "stream",
     "text": [
      "ZeroDivisionError\n",
      "105613\n",
      "<pyglicko2.glicko2.Player object at 0x7fee706a7eb0>\n",
      "CPU times: user 1.28 s, sys: 28.6 ms, total: 1.31 s\n",
      "Wall time: 1.31 s\n"
     ]
    }
   ],
   "source": [
    "%%time\n",
    "players_dict,rh = epochsG(matches[b_10[0]:b_10[1]],players_dict,365)\n",
    "ratings_histories += [rh]"
   ]
  },
  {
   "cell_type": "code",
   "execution_count": 67,
   "id": "f666f6d2-2af9-4e0b-8d52-5b2a317140c7",
   "metadata": {},
   "outputs": [
    {
     "name": "stdout",
     "output_type": "stream",
     "text": [
      "ZeroDivisionError\n",
      "105613\n",
      "<pyglicko2.glicko2.Player object at 0x7fee706a7eb0>\n",
      "CPU times: user 1.33 s, sys: 26 ms, total: 1.35 s\n",
      "Wall time: 1.35 s\n"
     ]
    }
   ],
   "source": [
    "%%time\n",
    "players_dict,rh = epochsG(matches[b_11[0]:b_11[1]],players_dict,365)\n",
    "ratings_histories += [rh]"
   ]
  },
  {
   "cell_type": "code",
   "execution_count": 68,
   "id": "a548efb1-4b34-4a22-b3f2-d57c74b3d0fe",
   "metadata": {},
   "outputs": [
    {
     "data": {
      "text/plain": [
       "[(700000, 725000), (725000, 750000)]"
      ]
     },
     "execution_count": 68,
     "metadata": {},
     "output_type": "execute_result"
    }
   ],
   "source": [
    "b = splitBatch(eg_batches_50[14],2); b0 = b[0]; b1 = b[1]\n",
    "b"
   ]
  },
  {
   "cell_type": "code",
   "execution_count": 69,
   "id": "005d026e-eb88-4d65-9b76-40fd0d23a659",
   "metadata": {},
   "outputs": [
    {
     "name": "stdout",
     "output_type": "stream",
     "text": [
      "ZeroDivisionError\n",
      "105613\n",
      "<pyglicko2.glicko2.Player object at 0x7fee706a7eb0>\n",
      "CPU times: user 1.74 s, sys: 33 ms, total: 1.78 s\n",
      "Wall time: 1.78 s\n"
     ]
    }
   ],
   "source": [
    "%%time\n",
    "players_dict,rh = epochsG(matches[b0[0]:b0[1]],players_dict,365)\n",
    "ratings_histories += [rh]"
   ]
  },
  {
   "cell_type": "code",
   "execution_count": 70,
   "id": "13362734-d626-4002-a1b0-03235d5e6110",
   "metadata": {},
   "outputs": [
    {
     "name": "stdout",
     "output_type": "stream",
     "text": [
      "ZeroDivisionError\n",
      "105613\n",
      "<pyglicko2.glicko2.Player object at 0x7fee706a7eb0>\n",
      "CPU times: user 1.87 s, sys: 34.9 ms, total: 1.9 s\n",
      "Wall time: 1.9 s\n"
     ]
    }
   ],
   "source": [
    "%%time\n",
    "players_dict,rh = epochsG(matches[b1[0]:b1[1]],players_dict,365)\n",
    "ratings_histories += [rh]"
   ]
  },
  {
   "cell_type": "code",
   "execution_count": 71,
   "id": "d956588b-4bf4-40d0-a3bb-0a0a1c9bb2b3",
   "metadata": {},
   "outputs": [],
   "source": [
    "b = splitBatch(eg_batches_50[15],4); b0 = b[0]; b1 = b[1];\n",
    "b2 = b[2]; b3 = b[3]\n"
   ]
  },
  {
   "cell_type": "code",
   "execution_count": 72,
   "id": "a322afbf-723a-47ef-85c4-992b0289017c",
   "metadata": {},
   "outputs": [
    {
     "name": "stdout",
     "output_type": "stream",
     "text": [
      "ZeroDivisionError\n",
      "105613\n",
      "<pyglicko2.glicko2.Player object at 0x7fee706a7eb0>\n",
      "CPU times: user 1.23 s, sys: 23.9 ms, total: 1.26 s\n",
      "Wall time: 1.26 s\n"
     ]
    }
   ],
   "source": [
    "%%time\n",
    "players_dict,rh = epochsG(matches[b0[0]:b0[1]],players_dict,365)\n",
    "ratings_histories += [rh]"
   ]
  },
  {
   "cell_type": "code",
   "execution_count": 73,
   "id": "02099b1a-0bc6-4813-b75b-cac3625c0a7a",
   "metadata": {},
   "outputs": [
    {
     "name": "stdout",
     "output_type": "stream",
     "text": [
      "ZeroDivisionError\n",
      "105613\n",
      "<pyglicko2.glicko2.Player object at 0x7fee706a7eb0>\n",
      "CPU times: user 1.33 s, sys: 28.4 ms, total: 1.36 s\n",
      "Wall time: 1.36 s\n"
     ]
    }
   ],
   "source": [
    "%%time\n",
    "players_dict,rh = epochsG(matches[b1[0]:b1[1]],players_dict,365)\n",
    "ratings_histories += [rh]"
   ]
  },
  {
   "cell_type": "code",
   "execution_count": 74,
   "id": "fef48fb4-28f6-4abd-a272-3db99a2b63ac",
   "metadata": {},
   "outputs": [
    {
     "name": "stdout",
     "output_type": "stream",
     "text": [
      "ZeroDivisionError\n",
      "105613\n",
      "<pyglicko2.glicko2.Player object at 0x7fee706a7eb0>\n",
      "CPU times: user 1.3 s, sys: 26 ms, total: 1.33 s\n",
      "Wall time: 1.33 s\n"
     ]
    }
   ],
   "source": [
    "%%time\n",
    "players_dict,rh = epochsG(matches[b2[0]:b2[1]],players_dict,365)\n",
    "ratings_histories += [rh]"
   ]
  },
  {
   "cell_type": "code",
   "execution_count": 75,
   "id": "06dcf1fc-18ee-4c2a-9a2a-b995175fb2d0",
   "metadata": {},
   "outputs": [
    {
     "name": "stdout",
     "output_type": "stream",
     "text": [
      "ZeroDivisionError\n",
      "105613\n",
      "<pyglicko2.glicko2.Player object at 0x7fee706a7eb0>\n",
      "CPU times: user 1.08 s, sys: 21.7 ms, total: 1.1 s\n",
      "Wall time: 1.1 s\n"
     ]
    }
   ],
   "source": [
    "%%time\n",
    "players_dict,rh = epochsG(matches[b3[0]:b3[1]],players_dict,365)\n",
    "ratings_histories += [rh]"
   ]
  },
  {
   "cell_type": "code",
   "execution_count": 76,
   "id": "1f05850c-f2b6-4765-a747-cd822f49afb4",
   "metadata": {
    "tags": []
   },
   "outputs": [
    {
     "name": "stdout",
     "output_type": "stream",
     "text": [
      "ZeroDivisionError\n",
      "105613\n",
      "<pyglicko2.glicko2.Player object at 0x7fee706a7eb0>\n",
      "ZeroDivisionError\n",
      "105613\n",
      "<pyglicko2.glicko2.Player object at 0x7fee706a7eb0>\n",
      "ZeroDivisionError\n",
      "105613\n",
      "<pyglicko2.glicko2.Player object at 0x7fee706a7eb0>\n",
      "CPU times: user 3.66 s, sys: 73.9 ms, total: 3.73 s\n",
      "Wall time: 3.73 s\n"
     ]
    }
   ],
   "source": [
    "%%time\n",
    "players_dict,rh = epochsG(matches[eg_batches_50[16][0]:eg_batches_50[16][1]],players_dict,365)\n",
    "ratings_histories += [rh]"
   ]
  },
  {
   "cell_type": "code",
   "execution_count": 77,
   "id": "cf74c159-3957-4bd9-b773-525a77528c64",
   "metadata": {},
   "outputs": [
    {
     "data": {
      "text/plain": [
       "[(850000, 856745), (856745, 863490), (863490, 870235), (870235, 876979)]"
      ]
     },
     "execution_count": 77,
     "metadata": {},
     "output_type": "execute_result"
    }
   ],
   "source": [
    "b = splitBatch(eg_batches_50[17],4)\n",
    "b0 = b[0]; b1 = b[1]\n",
    "b"
   ]
  },
  {
   "cell_type": "code",
   "execution_count": 78,
   "id": "d0157782-055b-42fd-ac6c-ef922881c706",
   "metadata": {},
   "outputs": [
    {
     "name": "stdout",
     "output_type": "stream",
     "text": [
      "ZeroDivisionError\n",
      "105613\n",
      "<pyglicko2.glicko2.Player object at 0x7fee706a7eb0>\n",
      "CPU times: user 886 ms, sys: 19.3 ms, total: 905 ms\n",
      "Wall time: 903 ms\n"
     ]
    }
   ],
   "source": [
    "%%time\n",
    "players_dict,rh = epochsG(matches[b0[0]:b0[1]],players_dict,365)\n",
    "ratings_histories += [rh]"
   ]
  },
  {
   "cell_type": "code",
   "execution_count": 79,
   "id": "b29a5af5-eddd-4af7-a8fa-0a0451f75dfe",
   "metadata": {},
   "outputs": [
    {
     "data": {
      "text/plain": [
       "[(850000, 856745), (856745, 863490), (863490, 870235), (870235, 876979)]"
      ]
     },
     "execution_count": 79,
     "metadata": {},
     "output_type": "execute_result"
    }
   ],
   "source": [
    "b = splitBatch(eg_batches_50[17],4)\n",
    "b0 = b[0]; b1 = b[1]; b2 = b[2]; b3 = b[3];\n",
    "b"
   ]
  },
  {
   "cell_type": "code",
   "execution_count": 80,
   "id": "6733ce61-a696-451d-9523-858d0d3a7dbd",
   "metadata": {},
   "outputs": [
    {
     "name": "stdout",
     "output_type": "stream",
     "text": [
      "ZeroDivisionError\n",
      "105613\n",
      "<pyglicko2.glicko2.Player object at 0x7fee706a7eb0>\n",
      "CPU times: user 852 ms, sys: 21.4 ms, total: 874 ms\n",
      "Wall time: 868 ms\n"
     ]
    }
   ],
   "source": [
    "%%time\n",
    "players_dict,rh = epochsG(matches[b0[0]:b0[1]],players_dict,365)\n",
    "ratings_histories += [rh]"
   ]
  },
  {
   "cell_type": "code",
   "execution_count": 81,
   "id": "5e9276fe-1ecc-4c45-8a97-66ccd3125f90",
   "metadata": {},
   "outputs": [
    {
     "name": "stdout",
     "output_type": "stream",
     "text": [
      "ZeroDivisionError\n",
      "105613\n",
      "<pyglicko2.glicko2.Player object at 0x7fee706a7eb0>\n",
      "CPU times: user 1.01 s, sys: 24.1 ms, total: 1.04 s\n",
      "Wall time: 1.03 s\n"
     ]
    }
   ],
   "source": [
    "%%time\n",
    "players_dict,rh = epochsG(matches[b1[0]:b1[1]],players_dict,365)\n",
    "ratings_histories += [rh]"
   ]
  },
  {
   "cell_type": "code",
   "execution_count": 82,
   "id": "6dfe7f55-9ed4-46c3-b7fe-ba05e24ced48",
   "metadata": {},
   "outputs": [
    {
     "name": "stdout",
     "output_type": "stream",
     "text": [
      "ZeroDivisionError\n",
      "105613\n",
      "<pyglicko2.glicko2.Player object at 0x7fee706a7eb0>\n",
      "CPU times: user 1.04 s, sys: 22.1 ms, total: 1.06 s\n",
      "Wall time: 1.06 s\n"
     ]
    }
   ],
   "source": [
    "%%time\n",
    "players_dict,rh = epochsG(matches[b2[0]:b2[1]],players_dict,365)\n",
    "ratings_histories += [rh]"
   ]
  },
  {
   "cell_type": "code",
   "execution_count": 83,
   "id": "9a7cb304-de69-45be-bfe0-74f5bb890e9b",
   "metadata": {},
   "outputs": [
    {
     "name": "stdout",
     "output_type": "stream",
     "text": [
      "ZeroDivisionError\n",
      "105613\n",
      "<pyglicko2.glicko2.Player object at 0x7fee706a7eb0>\n",
      "CPU times: user 984 ms, sys: 20.3 ms, total: 1 s\n",
      "Wall time: 1 s\n"
     ]
    }
   ],
   "source": [
    "%%time\n",
    "players_dict,rh = epochsG(matches[b3[0]:b3[1]],players_dict,365)\n",
    "ratings_histories += [rh]"
   ]
  },
  {
   "cell_type": "markdown",
   "id": "023d0953-5219-410c-b924-41df29dcd804",
   "metadata": {},
   "source": [
    "With the ratings_histories accumulated, these will now be stored in a dataframe for timely access later on."
   ]
  },
  {
   "cell_type": "code",
   "execution_count": 84,
   "id": "3a1e4d3e-b812-4f66-a929-d78445c950a5",
   "metadata": {
    "tags": []
   },
   "outputs": [],
   "source": [
    "ratingsrdHistory = {}\n",
    "for rh in ratings_histories:\n",
    "    ratingsrdHistory.update(rh)"
   ]
  },
  {
   "cell_type": "code",
   "execution_count": 85,
   "id": "83d784eb-38ed-4c0c-a84a-7b3c5fdefff0",
   "metadata": {},
   "outputs": [],
   "source": [
    "rdHistory = {key: ratingsrdHistory[key][1] for key in ratingsrdHistory.keys()}\n",
    "ratingsHistory = {key: ratingsrdHistory[key][0] for key in ratingsrdHistory.keys()}"
   ]
  },
  {
   "cell_type": "code",
   "execution_count": 86,
   "id": "073901e2-0c55-474d-bd0c-fc9828148184",
   "metadata": {
    "tags": []
   },
   "outputs": [],
   "source": [
    "ratingsHistory_df = assembleDf(ratingsHistory)\n",
    "rdHistory_df = assembleDf(rdHistory)"
   ]
  },
  {
   "cell_type": "code",
   "execution_count": 87,
   "id": "10498cad-14aa-4356-8dfc-a0cde97e0ccc",
   "metadata": {
    "tags": []
   },
   "outputs": [],
   "source": [
    "padRow = pd.DataFrame({col: 1500 for col in ratingsHistory_df.columns}, \n",
    "                      index = [pd.Timestamp('1877-07-09T00')])\n",
    "padRowrd = pd.DataFrame({col: 350 for col in ratingsHistory_df.columns}, \n",
    "                      index = [pd.Timestamp('1877-07-09T00')])"
   ]
  },
  {
   "cell_type": "code",
   "execution_count": 88,
   "id": "ce3ae646-3ee7-4573-b11f-c0bedeb95c12",
   "metadata": {},
   "outputs": [],
   "source": [
    "ratingsHistory_df= pd.concat([padRow,ratingsHistory_df],axis=0)\n",
    "rdHistory_df = pd.concat([padRowrd,rdHistory_df],axis=0)"
   ]
  },
  {
   "cell_type": "markdown",
   "id": "829f2e2d-50df-4021-bb2c-d45ab8fd7dfb",
   "metadata": {},
   "source": [
    "Finally unknown ratings are filled with the default of 1500 and rating deviations with the defauslt of 350.  Any time gaps in ratings will be filled with the previously seen rating.\n"
   ]
  },
  {
   "cell_type": "code",
   "execution_count": 89,
   "id": "1beb151d-a6e5-461e-afba-d9250231d725",
   "metadata": {
    "tags": []
   },
   "outputs": [],
   "source": [
    "ratingsHistory_df = ratingsHistory_df.ffill(axis=0).fillna(1500)\n",
    "rdHistory_df = rdHistory_df.ffill(axis=0).fillna(350)"
   ]
  },
  {
   "cell_type": "code",
   "execution_count": 93,
   "id": "06fef102-2c6f-4775-a14d-f959681d5dac",
   "metadata": {},
   "outputs": [],
   "source": [
    "# Store to dataframes for use in Glicko2Elo\n",
    "ratingsHistory_df.to_csv('../Data/ratings_histories_glicko2.csv')\n",
    "rdHistory_df.to_csv('../Data/rd_histories_glicko2.csv')"
   ]
  }
 ],
 "metadata": {
  "kernelspec": {
   "display_name": "Python 3 (ipykernel)",
   "language": "python",
   "name": "python3"
  },
  "language_info": {
   "codemirror_mode": {
    "name": "ipython",
    "version": 3
   },
   "file_extension": ".py",
   "mimetype": "text/x-python",
   "name": "python",
   "nbconvert_exporter": "python",
   "pygments_lexer": "ipython3",
   "version": "3.9.13"
  }
 },
 "nbformat": 4,
 "nbformat_minor": 5
}
