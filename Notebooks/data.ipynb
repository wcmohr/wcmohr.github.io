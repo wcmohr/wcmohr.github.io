{
 "cells": [
  {
   "cell_type": "markdown",
   "id": "ee9f3b67-ec90-46db-9293-e166fa1301c5",
   "metadata": {
    "tags": []
   },
   "source": [
    "###### Data notebook overview"
   ]
  },
  {
   "cell_type": "markdown",
   "id": "6da7059f-431c-4ca4-a743-2e41e9ffb04d",
   "metadata": {},
   "source": [
    "In this notebook I will import data, save data to csv files for use elsewhere, and verify that there is sufficient data for prediction by Elo, Glicko-2, and rating points."
   ]
  },
  {
   "cell_type": "markdown",
   "id": "eaca6966-64dd-4119-a440-a032f1812320",
   "metadata": {},
   "source": [
    "###### Attributions"
   ]
  },
  {
   "cell_type": "markdown",
   "id": "eb53e13f-d7ed-4632-8233-787db2d6c28c",
   "metadata": {},
   "source": [
    "[data source](<a rel=\"license\" href=\"http://creativecommons.org/licenses/by-nc-sa/4.0/\"><img alt=\"Creative Commons License\" style=\"border-width:0\" src=\"https://i.creativecommons.org/l/by-nc-sa/4.0/88x31.png\" /></a><br /><span xmlns:dct=\"http://purl.org/dc/terms/\" href=\"http://purl.org/dc/dcmitype/Dataset\" property=\"dct:title\" rel=\"dct:type\">Tennis databases, files, and algorithms</span> by <a xmlns:cc=\"http://creativecommons.org/ns#\" href=\"http://www.tennisabstract.com/\" property=\"cc:attributionName\" rel=\"cc:attributionURL\">Jeff Sackmann / Tennis Abstract</a> is licensed under a <a rel=\"license\" href=\"http://creativecommons.org/licenses/by-nc-sa/4.0/\">Creative Commons Attribution-NonCommercial-ShareAlike 4.0 International License</a>.<br />Based on a work at <a xmlns:dct=\"http://purl.org/dc/terms/\" href=\"https://github.com/JeffSackmann\" rel=\"dct:source\">https://github.com/JeffSackmann</a>)"
   ]
  },
  {
   "cell_type": "markdown",
   "id": "c39caf6d-ce76-4c35-bf2c-20bffd630392",
   "metadata": {},
   "source": [
    "An efficient solution to creating one df from multiple files is from [Sid](https://stackoverflow.com/questions/20906474/import-multiple-csv-files-into-pandas-and-concatenate-into-one-dataframe) "
   ]
  },
  {
   "cell_type": "markdown",
   "id": "c21f4a58-767c-4b09-baf5-fe65e18d998d",
   "metadata": {
    "tags": []
   },
   "source": [
    "###### Imports"
   ]
  },
  {
   "cell_type": "code",
   "execution_count": 1,
   "id": "d6622edb-0f32-47a8-baa9-ea67b42d21b2",
   "metadata": {
    "tags": []
   },
   "outputs": [],
   "source": [
    "import time\n",
    "from datetime import datetime, timedelta\n",
    "import pandas as pd\n",
    "import glob\n",
    "import sys \n",
    "import numpy as np\n",
    "sys.path.append('..')"
   ]
  },
  {
   "cell_type": "markdown",
   "id": "6a774b3b-d3b8-4614-8af3-3933c4a4fab6",
   "metadata": {},
   "source": [
    "Since the data license is non-commercial, this is a proof-of-concept project and cannot be immediately applied to commercial use."
   ]
  },
  {
   "cell_type": "markdown",
   "id": "b21f2ab4-bacc-4ec5-a613-830caf85eb88",
   "metadata": {
    "tags": []
   },
   "source": [
    "###### Read in data"
   ]
  },
  {
   "cell_type": "code",
   "execution_count": 2,
   "id": "8b035db5-2d2f-4f6f-8fa7-907064121b1a",
   "metadata": {
    "tags": []
   },
   "outputs": [],
   "source": [
    "# read in data\n",
    "atp_matches = glob.glob('../tennis_atp/atp_matches*.csv')\n",
    "\n",
    "# separate out by match category\n",
    "matches_tour = [file for file in atp_matches if \n",
    "                       len(file) == len('../tennis_atp/atp_matches_2019.csv')]\n",
    "matches_qual_chall = glob.glob('../tennis_atp/atp_matches_qual_chall_*.csv')\n",
    "matches_futures = glob.glob('../tennis_atp/atp_matches_futures_*.csv')\n",
    "rankings = glob.glob('../tennis_atp/atp_rankings_*.csv')\n",
    "players = glob.glob('../tennis_atp/atp_players.csv')\n",
    "matches_amateur = glob.glob('../tennis_atp/atp_matches_amateur.csv')\n",
    "\n",
    "# singles matches file list\n",
    "singles_matches = matches_qual_chall + matches_futures + matches_tour + \\\n",
    "matches_amateur\n",
    "# Combined DataFrames\n",
    "singles_matches_df = pd.concat((pd.read_csv(f, low_memory=False,parse_dates = \n",
    "                                            ['tourney_date'], \n",
    "                                            infer_datetime_format=True) \n",
    "                                for f in singles_matches), \n",
    "                               ignore_index=True)\n",
    "# select columns to be used in determining glicko2 ratings\n",
    "matches_glicko2 = singles_matches_df[['tourney_date','winner_id','loser_id',\n",
    "                                      'tourney_id']]\n",
    "# Separate Dataframes\n",
    "players_df = pd.read_csv(players[0],low_memory=False) \n",
    "rankings_df = pd.concat((pd.read_csv(ranks) for ranks in rankings))\n",
    "matches_qual_chall_df = pd.concat((pd.read_csv(matches,low_memory=False) for matches in \n",
    "                                   matches_qual_chall))\n",
    "matches_futures_df = pd.concat((pd.read_csv(matches,low_memory=False) for matches in \n",
    "                                matches_futures))\n",
    "matches_tour_df = pd.concat((pd.read_csv(matches,low_memory=False) for matches in matches_tour))\n",
    "matches_amateur_df = pd.read_csv(matches_amateur[0],low_memory=False)"
   ]
  },
  {
   "cell_type": "code",
   "execution_count": 3,
   "id": "f5b2bb19-953f-46b4-a156-c04cc6b27b8e",
   "metadata": {
    "tags": []
   },
   "outputs": [
    {
     "data": {
      "text/html": [
       "<div>\n",
       "<style scoped>\n",
       "    .dataframe tbody tr th:only-of-type {\n",
       "        vertical-align: middle;\n",
       "    }\n",
       "\n",
       "    .dataframe tbody tr th {\n",
       "        vertical-align: top;\n",
       "    }\n",
       "\n",
       "    .dataframe thead th {\n",
       "        text-align: right;\n",
       "    }\n",
       "</style>\n",
       "<table border=\"1\" class=\"dataframe\">\n",
       "  <thead>\n",
       "    <tr style=\"text-align: right;\">\n",
       "      <th></th>\n",
       "      <th>tourney_id</th>\n",
       "      <th>tourney_name</th>\n",
       "      <th>surface</th>\n",
       "      <th>draw_size</th>\n",
       "      <th>tourney_level</th>\n",
       "      <th>tourney_date</th>\n",
       "      <th>match_num</th>\n",
       "      <th>winner_id</th>\n",
       "      <th>winner_seed</th>\n",
       "      <th>winner_entry</th>\n",
       "      <th>...</th>\n",
       "      <th>l_1stIn</th>\n",
       "      <th>l_1stWon</th>\n",
       "      <th>l_2ndWon</th>\n",
       "      <th>l_SvGms</th>\n",
       "      <th>l_bpSaved</th>\n",
       "      <th>l_bpFaced</th>\n",
       "      <th>winner_rank</th>\n",
       "      <th>winner_rank_points</th>\n",
       "      <th>loser_rank</th>\n",
       "      <th>loser_rank_points</th>\n",
       "    </tr>\n",
       "  </thead>\n",
       "  <tbody>\n",
       "    <tr>\n",
       "      <th>0</th>\n",
       "      <td>1999-460</td>\n",
       "      <td>Heilbronn CH</td>\n",
       "      <td>Carpet</td>\n",
       "      <td>32</td>\n",
       "      <td>C</td>\n",
       "      <td>1999-01-25</td>\n",
       "      <td>1</td>\n",
       "      <td>103082</td>\n",
       "      <td>NaN</td>\n",
       "      <td>Q</td>\n",
       "      <td>...</td>\n",
       "      <td>NaN</td>\n",
       "      <td>NaN</td>\n",
       "      <td>NaN</td>\n",
       "      <td>NaN</td>\n",
       "      <td>NaN</td>\n",
       "      <td>NaN</td>\n",
       "      <td>199.0</td>\n",
       "      <td>228.0</td>\n",
       "      <td>52.0</td>\n",
       "      <td>818.0</td>\n",
       "    </tr>\n",
       "    <tr>\n",
       "      <th>1</th>\n",
       "      <td>1999-460</td>\n",
       "      <td>Heilbronn CH</td>\n",
       "      <td>Carpet</td>\n",
       "      <td>32</td>\n",
       "      <td>C</td>\n",
       "      <td>1999-01-25</td>\n",
       "      <td>2</td>\n",
       "      <td>102615</td>\n",
       "      <td>NaN</td>\n",
       "      <td>NaN</td>\n",
       "      <td>...</td>\n",
       "      <td>NaN</td>\n",
       "      <td>NaN</td>\n",
       "      <td>NaN</td>\n",
       "      <td>NaN</td>\n",
       "      <td>NaN</td>\n",
       "      <td>NaN</td>\n",
       "      <td>121.0</td>\n",
       "      <td>394.0</td>\n",
       "      <td>120.0</td>\n",
       "      <td>401.0</td>\n",
       "    </tr>\n",
       "    <tr>\n",
       "      <th>2</th>\n",
       "      <td>1999-460</td>\n",
       "      <td>Heilbronn CH</td>\n",
       "      <td>Carpet</td>\n",
       "      <td>32</td>\n",
       "      <td>C</td>\n",
       "      <td>1999-01-25</td>\n",
       "      <td>3</td>\n",
       "      <td>103451</td>\n",
       "      <td>NaN</td>\n",
       "      <td>WC</td>\n",
       "      <td>...</td>\n",
       "      <td>NaN</td>\n",
       "      <td>NaN</td>\n",
       "      <td>NaN</td>\n",
       "      <td>NaN</td>\n",
       "      <td>NaN</td>\n",
       "      <td>NaN</td>\n",
       "      <td>440.0</td>\n",
       "      <td>64.0</td>\n",
       "      <td>119.0</td>\n",
       "      <td>403.0</td>\n",
       "    </tr>\n",
       "    <tr>\n",
       "      <th>3</th>\n",
       "      <td>1999-460</td>\n",
       "      <td>Heilbronn CH</td>\n",
       "      <td>Carpet</td>\n",
       "      <td>32</td>\n",
       "      <td>C</td>\n",
       "      <td>1999-01-25</td>\n",
       "      <td>4</td>\n",
       "      <td>102107</td>\n",
       "      <td>NaN</td>\n",
       "      <td>NaN</td>\n",
       "      <td>...</td>\n",
       "      <td>NaN</td>\n",
       "      <td>NaN</td>\n",
       "      <td>NaN</td>\n",
       "      <td>NaN</td>\n",
       "      <td>NaN</td>\n",
       "      <td>NaN</td>\n",
       "      <td>146.0</td>\n",
       "      <td>321.0</td>\n",
       "      <td>108.0</td>\n",
       "      <td>447.0</td>\n",
       "    </tr>\n",
       "    <tr>\n",
       "      <th>4</th>\n",
       "      <td>1999-460</td>\n",
       "      <td>Heilbronn CH</td>\n",
       "      <td>Carpet</td>\n",
       "      <td>32</td>\n",
       "      <td>C</td>\n",
       "      <td>1999-01-25</td>\n",
       "      <td>5</td>\n",
       "      <td>102652</td>\n",
       "      <td>NaN</td>\n",
       "      <td>NaN</td>\n",
       "      <td>...</td>\n",
       "      <td>NaN</td>\n",
       "      <td>NaN</td>\n",
       "      <td>NaN</td>\n",
       "      <td>NaN</td>\n",
       "      <td>NaN</td>\n",
       "      <td>NaN</td>\n",
       "      <td>142.0</td>\n",
       "      <td>324.0</td>\n",
       "      <td>86.0</td>\n",
       "      <td>584.0</td>\n",
       "    </tr>\n",
       "  </tbody>\n",
       "</table>\n",
       "<p>5 rows × 49 columns</p>\n",
       "</div>"
      ],
      "text/plain": [
       "  tourney_id  tourney_name surface draw_size tourney_level tourney_date  \\\n",
       "0   1999-460  Heilbronn CH  Carpet        32             C   1999-01-25   \n",
       "1   1999-460  Heilbronn CH  Carpet        32             C   1999-01-25   \n",
       "2   1999-460  Heilbronn CH  Carpet        32             C   1999-01-25   \n",
       "3   1999-460  Heilbronn CH  Carpet        32             C   1999-01-25   \n",
       "4   1999-460  Heilbronn CH  Carpet        32             C   1999-01-25   \n",
       "\n",
       "   match_num  winner_id  winner_seed winner_entry  ... l_1stIn l_1stWon  \\\n",
       "0          1     103082          NaN            Q  ...     NaN      NaN   \n",
       "1          2     102615          NaN          NaN  ...     NaN      NaN   \n",
       "2          3     103451          NaN           WC  ...     NaN      NaN   \n",
       "3          4     102107          NaN          NaN  ...     NaN      NaN   \n",
       "4          5     102652          NaN          NaN  ...     NaN      NaN   \n",
       "\n",
       "   l_2ndWon l_SvGms  l_bpSaved  l_bpFaced  winner_rank winner_rank_points  \\\n",
       "0       NaN     NaN        NaN        NaN        199.0              228.0   \n",
       "1       NaN     NaN        NaN        NaN        121.0              394.0   \n",
       "2       NaN     NaN        NaN        NaN        440.0               64.0   \n",
       "3       NaN     NaN        NaN        NaN        146.0              321.0   \n",
       "4       NaN     NaN        NaN        NaN        142.0              324.0   \n",
       "\n",
       "  loser_rank loser_rank_points  \n",
       "0       52.0             818.0  \n",
       "1      120.0             401.0  \n",
       "2      119.0             403.0  \n",
       "3      108.0             447.0  \n",
       "4       86.0             584.0  \n",
       "\n",
       "[5 rows x 49 columns]"
      ]
     },
     "execution_count": 3,
     "metadata": {},
     "output_type": "execute_result"
    }
   ],
   "source": [
    "singles_matches_df.head()"
   ]
  },
  {
   "cell_type": "code",
   "execution_count": 4,
   "id": "b2a956e9-0445-439f-8320-b87605fdadfa",
   "metadata": {
    "tags": []
   },
   "outputs": [],
   "source": [
    "# sort the rows by tourney_date\n",
    "matches_glicko2 = matches_glicko2.sort_values(by = 'tourney_date')\n",
    "\n",
    "# adjust the index\n",
    "matches_glicko2.index = [x for x in range(matches_glicko2.shape[0])]\n",
    "\n",
    "# save to csv for import by other notebooks\n",
    "matches_glicko2.to_csv('../Data/matches_glicko2.csv',index=False)"
   ]
  },
  {
   "cell_type": "code",
   "execution_count": 5,
   "id": "1b548155-159e-4fca-a3ef-b9dd31ebacb1",
   "metadata": {},
   "outputs": [],
   "source": [
    "# sort the rows by tourney_date\n",
    "singles_matches_df.sort_values(by = 'tourney_date', inplace = True) \n",
    "\n",
    "# adjust the index\n",
    "singles_matches_df.index = [x for x in range(singles_matches_df.shape[0])]"
   ]
  },
  {
   "cell_type": "code",
   "execution_count": 13,
   "id": "54edc7fb-6a42-4147-88e4-f52a287a6e1d",
   "metadata": {},
   "outputs": [],
   "source": [
    "# save to csv for import by other notebooks\n",
    "n = singles_matches_df.shape[0]//3\n",
    "singles_matches_df[0:n].to_csv('../Data/singles_matches_df_0.csv',index=False)\n",
    "singles_matches_df[n:n*2].to_csv('../Data/singles_matches_df_1.csv',index=False)\n",
    "singles_matches_df[n*2:].to_csv('../Data/singles_matches_df_2.csv',index=False)\n"
   ]
  },
  {
   "cell_type": "code",
   "execution_count": 7,
   "id": "180f82f6-ac05-4aae-9c1d-77c152c78447",
   "metadata": {
    "tags": []
   },
   "outputs": [
    {
     "data": {
      "text/html": [
       "<div>\n",
       "<style scoped>\n",
       "    .dataframe tbody tr th:only-of-type {\n",
       "        vertical-align: middle;\n",
       "    }\n",
       "\n",
       "    .dataframe tbody tr th {\n",
       "        vertical-align: top;\n",
       "    }\n",
       "\n",
       "    .dataframe thead th {\n",
       "        text-align: right;\n",
       "    }\n",
       "</style>\n",
       "<table border=\"1\" class=\"dataframe\">\n",
       "  <thead>\n",
       "    <tr style=\"text-align: right;\">\n",
       "      <th></th>\n",
       "      <th>winner_id</th>\n",
       "      <th>loser_id</th>\n",
       "    </tr>\n",
       "  </thead>\n",
       "  <tbody>\n",
       "    <tr>\n",
       "      <th>0</th>\n",
       "      <td>113987</td>\n",
       "      <td>114149</td>\n",
       "    </tr>\n",
       "    <tr>\n",
       "      <th>1</th>\n",
       "      <td>113987</td>\n",
       "      <td>113999</td>\n",
       "    </tr>\n",
       "    <tr>\n",
       "      <th>2</th>\n",
       "      <td>113987</td>\n",
       "      <td>113963</td>\n",
       "    </tr>\n",
       "    <tr>\n",
       "      <th>3</th>\n",
       "      <td>113963</td>\n",
       "      <td>114158</td>\n",
       "    </tr>\n",
       "    <tr>\n",
       "      <th>4</th>\n",
       "      <td>113999</td>\n",
       "      <td>113953</td>\n",
       "    </tr>\n",
       "    <tr>\n",
       "      <th>...</th>\n",
       "      <td>...</td>\n",
       "      <td>...</td>\n",
       "    </tr>\n",
       "    <tr>\n",
       "      <th>876973</th>\n",
       "      <td>207987</td>\n",
       "      <td>208519</td>\n",
       "    </tr>\n",
       "    <tr>\n",
       "      <th>876974</th>\n",
       "      <td>144932</td>\n",
       "      <td>209977</td>\n",
       "    </tr>\n",
       "    <tr>\n",
       "      <th>876975</th>\n",
       "      <td>209955</td>\n",
       "      <td>209942</td>\n",
       "    </tr>\n",
       "    <tr>\n",
       "      <th>876976</th>\n",
       "      <td>209079</td>\n",
       "      <td>210696</td>\n",
       "    </tr>\n",
       "    <tr>\n",
       "      <th>876977</th>\n",
       "      <td>200289</td>\n",
       "      <td>209360</td>\n",
       "    </tr>\n",
       "  </tbody>\n",
       "</table>\n",
       "<p>876978 rows × 2 columns</p>\n",
       "</div>"
      ],
      "text/plain": [
       "        winner_id  loser_id\n",
       "0          113987    114149\n",
       "1          113987    113999\n",
       "2          113987    113963\n",
       "3          113963    114158\n",
       "4          113999    113953\n",
       "...           ...       ...\n",
       "876973     207987    208519\n",
       "876974     144932    209977\n",
       "876975     209955    209942\n",
       "876976     209079    210696\n",
       "876977     200289    209360\n",
       "\n",
       "[876978 rows x 2 columns]"
      ]
     },
     "execution_count": 7,
     "metadata": {},
     "output_type": "execute_result"
    }
   ],
   "source": [
    "singles_matches_df[['winner_id','loser_id']]"
   ]
  },
  {
   "cell_type": "markdown",
   "id": "e4adcc28-46f7-41a8-84eb-f84f24956d86",
   "metadata": {},
   "source": [
    "All matches have a winner and loser id, which indicates that all the datapoints can be used for determining the elo ranking.  There is a good amount of standing rank data, suggesting that this data can be used for testing the relative strength of standard ranking vs elo rating in predicting outcomes."
   ]
  },
  {
   "cell_type": "code",
   "execution_count": 8,
   "id": "b7ab9ac6-4557-418d-a3d8-87f376785fe7",
   "metadata": {
    "collapsed": true,
    "jupyter": {
     "outputs_hidden": true
    },
    "tags": []
   },
   "outputs": [
    {
     "data": {
      "text/plain": [
       "tourney_id            100.000000\n",
       "winner_id             100.000000\n",
       "round                 100.000000\n",
       "tourney_name          100.000000\n",
       "loser_name            100.000000\n",
       "loser_id              100.000000\n",
       "winner_name           100.000000\n",
       "best_of               100.000000\n",
       "match_num             100.000000\n",
       "draw_size             100.000000\n",
       "tourney_date          100.000000\n",
       "tourney_level         100.000000\n",
       "winner_ioc             99.998860\n",
       "loser_ioc              99.992474\n",
       "score                  99.983466\n",
       "surface                99.548905\n",
       "winner_age             98.426300\n",
       "winner_hand            97.757754\n",
       "loser_hand             97.575424\n",
       "loser_age              96.703680\n",
       "winner_rank            87.879057\n",
       "loser_rank             80.534859\n",
       "winner_rank_points     80.096308\n",
       "loser_rank_points      73.733891\n",
       "winner_ht              61.427767\n",
       "loser_ht               49.171815\n",
       "winner_seed            42.112915\n",
       "loser_entry            28.936644\n",
       "loser_seed             21.519240\n",
       "w_SvGms                21.290272\n",
       "l_SvGms                21.290272\n",
       "w_ace                  21.290158\n",
       "l_df                   21.290158\n",
       "l_1stIn                21.290044\n",
       "l_bpFaced              21.290044\n",
       "l_bpSaved              21.290044\n",
       "l_2ndWon               21.290044\n",
       "l_1stWon               21.290044\n",
       "l_svpt                 21.290044\n",
       "l_ace                  21.290044\n",
       "w_bpFaced              21.290044\n",
       "w_bpSaved              21.290044\n",
       "w_2ndWon               21.290044\n",
       "w_1stWon               21.290044\n",
       "w_1stIn                21.290044\n",
       "w_svpt                 21.290044\n",
       "w_df                   21.290044\n",
       "minutes                20.577597\n",
       "winner_entry           16.339863\n",
       "dtype: float64"
      ]
     },
     "execution_count": 8,
     "metadata": {},
     "output_type": "execute_result"
    }
   ],
   "source": [
    "# NaN analysis adapted from code by James Larkin\n",
    "(1-singles_matches_df.isnull().mean()).mul(100).sort_values(ascending=False)"
   ]
  },
  {
   "cell_type": "code",
   "execution_count": 9,
   "id": "d3ef1963-9470-4131-bb67-1307d6a46cd2",
   "metadata": {},
   "outputs": [
    {
     "data": {
      "text/plain": [
       "(0.8770289179104478, 0.9525636327292111)"
      ]
     },
     "execution_count": 9,
     "metadata": {},
     "output_type": "execute_result"
    }
   ],
   "source": [
    "singles_matches_df[singles_matches_df['tourney_date']>\n",
    "                   '1999-01-25']['loser_rank_points'].notnull().mean(),\\\n",
    "singles_matches_df[singles_matches_df['tourney_date']>\n",
    "                   '1999-01-25']['winner_rank_points'].notnull().mean()"
   ]
  },
  {
   "cell_type": "markdown",
   "id": "05cff4a2-90a5-4242-bf04-c3fd91043ede",
   "metadata": {},
   "source": [
    "Tourney Date, winner id and loser id have no missing values.  Thus there is no filtering by row needed for rating system analysis. winner_rank_points data is available for 80% of the observations.  loser_rank_points is available for 73% of the observations.  loser_rank_points is available for 87% of the matches after 1999-01-25\n",
    "and winner_rank_points is available for 95% of the matches after 1999-01-25.  This suggests there is ample ranking points data available in the modern era with which to investigate predictive value of ranking points."
   ]
  }
 ],
 "metadata": {
  "kernelspec": {
   "display_name": "Python 3 (ipykernel)",
   "language": "python",
   "name": "python3"
  },
  "language_info": {
   "codemirror_mode": {
    "name": "ipython",
    "version": 3
   },
   "file_extension": ".py",
   "mimetype": "text/x-python",
   "name": "python",
   "nbconvert_exporter": "python",
   "pygments_lexer": "ipython3",
   "version": "3.9.13"
  }
 },
 "nbformat": 4,
 "nbformat_minor": 5
}
