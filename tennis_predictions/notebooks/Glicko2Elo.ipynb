{
 "cells": [
  {
   "cell_type": "markdown",
   "id": "077684f7-16d7-4bf5-8517-d2a5764d65ff",
   "metadata": {},
   "source": [
    "###### Overview"
   ]
  },
  {
   "cell_type": "markdown",
   "id": "845846da-3176-4f75-9d85-c4ccd5346cbd",
   "metadata": {},
   "source": [
    "In this notebook I apply the Elo and Glicko-2 rating systems to the singles matches data and save the learned ratings and rating deviations to a dataframe for timely access in other notebooks."
   ]
  },
  {
   "cell_type": "markdown",
   "id": "414e1216-693e-4974-a322-c615a13fc1b0",
   "metadata": {
    "tags": []
   },
   "source": [
    "###### Imports"
   ]
  },
  {
   "cell_type": "markdown",
   "id": "aa6cbec9-5376-4c6f-8d97-b0f721eb18be",
   "metadata": {},
   "source": [
    "Packages"
   ]
  },
  {
   "cell_type": "code",
   "execution_count": 23,
   "id": "c980de3b-642c-4c43-a8e6-08fe2c524a68",
   "metadata": {},
   "outputs": [],
   "source": [
    "import pandas as pd\n",
    "from functions import assembleDf, epochElo, epochsElo, epochG, epochsG,\\\n",
    "PlayerElo, winProbG, get_recent_rating_wp, get_recent_rating_rd_wp_lambda\n",
    "from datetime import datetime, timedelta\n",
    "import numpy as np\n",
    "import glob\n",
    "import sys\n",
    "sys.path.append('..')\n",
    "from pyglicko2.glicko2_tests import exampleCase\n",
    "from pyglicko2.glicko2 import Player\n",
    "import glicko2\n",
    "import time"
   ]
  },
  {
   "cell_type": "markdown",
   "id": "1090bf9b-b25c-44b2-ba8e-bba0ff493572",
   "metadata": {},
   "source": [
    "Data"
   ]
  },
  {
   "cell_type": "code",
   "execution_count": 2,
   "id": "ac0ad5db-6c40-4fdd-a0c8-b03d8d36ebb6",
   "metadata": {},
   "outputs": [],
   "source": [
    "# read in the data that will be used with the rating systems.\n",
    "matches = pd.read_csv('../Data/matches_glicko2.csv',parse_dates = \n",
    "                      ['tourney_date'], infer_datetime_format = True)"
   ]
  },
  {
   "cell_type": "code",
   "execution_count": 24,
   "id": "eb5f67f5-231e-4a9b-9017-f70520e11b66",
   "metadata": {
    "tags": []
   },
   "outputs": [],
   "source": [
    "# read in the unfiltered data\n",
    "data_files = glob.glob('../Data/singles_matches_df_*.csv')\n",
    "singles_matches = pd.concat([pd.read_csv(f, low_memory=False,parse_dates = \n",
    "                                            ['tourney_date'], \n",
    "                                            infer_datetime_format=True,\n",
    "                                           index_col=[0]) \n",
    "                                for f in data_files]) "
   ]
  },
  {
   "cell_type": "markdown",
   "id": "97d2465b-3c22-4cde-9006-e16e41080eda",
   "metadata": {
    "tags": []
   },
   "source": [
    "##### Rating system application"
   ]
  },
  {
   "cell_type": "markdown",
   "id": "3ca14581-ca2f-4d17-bbd0-1d988b38119a",
   "metadata": {},
   "source": [
    "Get the Elo ratings for the matches."
   ]
  },
  {
   "cell_type": "code",
   "execution_count": 4,
   "id": "22e0b931-629c-4ae6-8614-e076eb771960",
   "metadata": {},
   "outputs": [],
   "source": [
    "playerClasses, eloRatingsHistory = epochsElo(matches)"
   ]
  },
  {
   "cell_type": "code",
   "execution_count": 5,
   "id": "7d1d68e8-b267-47a5-976e-4fd5c22aaa61",
   "metadata": {},
   "outputs": [],
   "source": [
    "ratingsHistory_df = assembleDf(eloRatingsHistory)"
   ]
  },
  {
   "cell_type": "code",
   "execution_count": 6,
   "id": "4b900fa6-7fbe-4dc9-b6af-fc66595d4fff",
   "metadata": {},
   "outputs": [],
   "source": [
    "# fill in missing values with most recent rating.  \n",
    "ratingsHistory_df = ratingsHistory_df.ffill(axis=0).fillna(1500)"
   ]
  },
  {
   "cell_type": "code",
   "execution_count": 7,
   "id": "2d05c7a8-06d1-4be8-8ed7-92acc81bb115",
   "metadata": {
    "tags": []
   },
   "outputs": [],
   "source": [
    "# import glicko2 rating and rating deviation history DataFrames\n",
    "g2_rh = pd.read_csv('../Data/ratings_histories_glicko2.csv', index_col = 0, \n",
    "                   parse_dates=True, dtype=np.float64)\n",
    "g2_rh.columns = g2_rh.columns.astype(int)\n",
    "g2_rdh = pd.read_csv('../Data/rd_histories_glicko2.csv', index_col = 0, \n",
    "                     parse_dates=True, dtype=np.float64)\n",
    "g2_rdh.columns = g2_rdh.columns.astype(int)\n"
   ]
  },
  {
   "cell_type": "markdown",
   "id": "eb3ae6e3-810b-499e-b620-c774014e5dcf",
   "metadata": {
    "tags": []
   },
   "source": [
    "###### Filter for winner_id and loser_id in ratinghistory pre-glicko2 analysis"
   ]
  },
  {
   "cell_type": "code",
   "execution_count": 8,
   "id": "3098e31d-13af-4707-877d-14f343743927",
   "metadata": {},
   "outputs": [],
   "source": [
    "g2_players = set(g2_rdh.columns).union(g2_rh.columns)"
   ]
  },
  {
   "cell_type": "code",
   "execution_count": 9,
   "id": "68032518-dae7-4e7c-8cf2-51e3dfa47b8a",
   "metadata": {},
   "outputs": [],
   "source": [
    "in_g2 = [p[0] in g2_players and p[1] in g2_players  for p in zip(matches['winner_id'],matches['loser_id'])]"
   ]
  },
  {
   "cell_type": "code",
   "execution_count": 10,
   "id": "82df4a27-4bd6-434a-85b9-04372d017484",
   "metadata": {},
   "outputs": [
    {
     "data": {
      "text/plain": [
       "0.9528939152407472"
      ]
     },
     "execution_count": 10,
     "metadata": {},
     "output_type": "execute_result"
    }
   ],
   "source": [
    "sum(in_g2)/matches.shape[0]"
   ]
  },
  {
   "cell_type": "markdown",
   "id": "8148a945-d288-428f-8139-44486adfdd30",
   "metadata": {},
   "source": [
    "For 95% of the matches, both players are in the glicko-2 dataframes.  Later iterations on this code will determine why not 100% of the players are getting captured by epochsG."
   ]
  },
  {
   "cell_type": "code",
   "execution_count": 11,
   "id": "8f182c08-bdab-409e-836c-f4e379e08391",
   "metadata": {},
   "outputs": [
    {
     "name": "stdout",
     "output_type": "stream",
     "text": [
      "CPU times: user 7min 34s, sys: 12.9 s, total: 7min 47s\n",
      "Wall time: 7min 42s\n"
     ]
    }
   ],
   "source": [
    "%%time\n",
    "apply_glicko2 = matches[in_g2].apply(lambda x: \n",
    "                     get_recent_rating_rd_wp_lambda(x['tourney_date'],\n",
    "                                                   x['winner_id'],\n",
    "                                                   x['loser_id'],\n",
    "                                                   g2_rh, g2_rdh),axis=1)"
   ]
  },
  {
   "cell_type": "markdown",
   "id": "4655090b-b833-4daf-9a0a-55eaa75309a4",
   "metadata": {},
   "source": [
    "The above requires 7 minutes to resolve for me.  I will save the data to a csv."
   ]
  },
  {
   "cell_type": "code",
   "execution_count": 12,
   "id": "f1fd36ac-95f6-4256-9bae-3a9673c6c9d1",
   "metadata": {},
   "outputs": [],
   "source": [
    "# here I reshape the the filtered glicko2 data to match the full data, filling\n",
    "# the blanks with NaNs.\n",
    "g2_reshaped = [apply_glicko2[m] if m in apply_glicko2.index.values else \n",
    " (np.nan, np.nan, np.nan, np.nan, np.nan)\n",
    " for m in range(0, matches.shape[0])]"
   ]
  },
  {
   "cell_type": "code",
   "execution_count": 13,
   "id": "5e944bf0-5035-4b43-83c5-59c21b41e397",
   "metadata": {},
   "outputs": [],
   "source": [
    "# convert the reshaped list of tuples to a dataframe for later concatenation \n",
    "# with elo data and the original dataset.\n",
    "g2_df = pd.DataFrame.from_records(g2_reshaped, columns = \n",
    "                          ['winner_gr','winner_grd','loser_gr', 'loser_grd',\n",
    "                          'wp_g'])"
   ]
  },
  {
   "cell_type": "code",
   "execution_count": 14,
   "id": "9eadbded-4761-46f1-aa13-8b9304b78fe6",
   "metadata": {},
   "outputs": [],
   "source": [
    "g2_df.to_csv('./g2_df.csv')"
   ]
  },
  {
   "cell_type": "markdown",
   "id": "52d28aab-f50d-4c31-8a4c-3b3b19b0323b",
   "metadata": {},
   "source": [
    "###### Elo application"
   ]
  },
  {
   "cell_type": "code",
   "execution_count": 15,
   "id": "157d9b36-60d4-482b-a16c-e73868c5df6e",
   "metadata": {
    "tags": []
   },
   "outputs": [
    {
     "data": {
      "text/html": [
       "<div>\n",
       "<style scoped>\n",
       "    .dataframe tbody tr th:only-of-type {\n",
       "        vertical-align: middle;\n",
       "    }\n",
       "\n",
       "    .dataframe tbody tr th {\n",
       "        vertical-align: top;\n",
       "    }\n",
       "\n",
       "    .dataframe thead th {\n",
       "        text-align: right;\n",
       "    }\n",
       "</style>\n",
       "<table border=\"1\" class=\"dataframe\">\n",
       "  <thead>\n",
       "    <tr style=\"text-align: right;\">\n",
       "      <th></th>\n",
       "      <th>131500</th>\n",
       "      <th>131584</th>\n",
       "      <th>131866</th>\n",
       "      <th>131867</th>\n",
       "      <th>131869</th>\n",
       "      <th>131873</th>\n",
       "      <th>131876</th>\n",
       "      <th>131879</th>\n",
       "      <th>131881</th>\n",
       "      <th>131884</th>\n",
       "      <th>...</th>\n",
       "      <th>130340</th>\n",
       "      <th>130355</th>\n",
       "      <th>130457</th>\n",
       "      <th>130493</th>\n",
       "      <th>130542</th>\n",
       "      <th>130550</th>\n",
       "      <th>130552</th>\n",
       "      <th>130553</th>\n",
       "      <th>130655</th>\n",
       "      <th>130767</th>\n",
       "    </tr>\n",
       "  </thead>\n",
       "  <tbody>\n",
       "    <tr>\n",
       "      <th>1877-07-09</th>\n",
       "      <td>1500.0</td>\n",
       "      <td>1500.0</td>\n",
       "      <td>1500.0</td>\n",
       "      <td>1500.0</td>\n",
       "      <td>1500.0</td>\n",
       "      <td>1500.0</td>\n",
       "      <td>1500.0</td>\n",
       "      <td>1500.0</td>\n",
       "      <td>1500.0</td>\n",
       "      <td>1500.0</td>\n",
       "      <td>...</td>\n",
       "      <td>1500.0</td>\n",
       "      <td>1500.0</td>\n",
       "      <td>1500.0</td>\n",
       "      <td>1500.0</td>\n",
       "      <td>1500.0</td>\n",
       "      <td>1500.0</td>\n",
       "      <td>1500.0</td>\n",
       "      <td>1500.0</td>\n",
       "      <td>1500.0</td>\n",
       "      <td>1500.0</td>\n",
       "    </tr>\n",
       "  </tbody>\n",
       "</table>\n",
       "<p>1 rows × 32577 columns</p>\n",
       "</div>"
      ],
      "text/plain": [
       "            131500  131584  131866  131867  131869  131873  131876  131879  \\\n",
       "1877-07-09  1500.0  1500.0  1500.0  1500.0  1500.0  1500.0  1500.0  1500.0   \n",
       "\n",
       "            131881  131884  ...  130340  130355  130457  130493  130542  \\\n",
       "1877-07-09  1500.0  1500.0  ...  1500.0  1500.0  1500.0  1500.0  1500.0   \n",
       "\n",
       "            130550  130552  130553  130655  130767  \n",
       "1877-07-09  1500.0  1500.0  1500.0  1500.0  1500.0  \n",
       "\n",
       "[1 rows x 32577 columns]"
      ]
     },
     "execution_count": 15,
     "metadata": {},
     "output_type": "execute_result"
    }
   ],
   "source": [
    "padRow = pd.DataFrame({col: 1500.0 for col in ratingsHistory_df.columns}, index = [pd.Timestamp('1877-07-09T00')])\n",
    "padRow"
   ]
  },
  {
   "cell_type": "code",
   "execution_count": 16,
   "id": "9f50164d-2819-4af1-8500-088a0c666e7d",
   "metadata": {
    "tags": []
   },
   "outputs": [],
   "source": [
    "ratingsHistory_df = pd.concat([padRow,ratingsHistory_df],axis=0)"
   ]
  },
  {
   "cell_type": "code",
   "execution_count": 17,
   "id": "1cd98b60-78d4-4446-8d91-92603e6bc0e2",
   "metadata": {},
   "outputs": [],
   "source": [
    "we_le_pw = matches.apply(lambda x:\n",
    "                           get_recent_rating_wp(\n",
    "                               ratingsHistory_df, \n",
    "                               x['tourney_date'], \n",
    "                               x['winner_id'], \n",
    "                               x['loser_id']),\n",
    "                            axis=1)"
   ]
  },
  {
   "cell_type": "code",
   "execution_count": 18,
   "id": "79fad9b4-508f-4d3a-9f16-c5b66e92bd5b",
   "metadata": {},
   "outputs": [],
   "source": [
    "we_le_pw_df = pd.DataFrame.from_records(we_le_pw, columns = ['winner_elo',\n",
    "                                                             'loser_elo',\n",
    "                                                             'win_prob'])"
   ]
  },
  {
   "cell_type": "markdown",
   "id": "b2e93c18-0f70-4fb1-b816-bdc5fe693de6",
   "metadata": {},
   "source": [
    "###### Glicko-2 and Elo combined with full data"
   ]
  },
  {
   "cell_type": "code",
   "execution_count": 19,
   "id": "9349bb02-787e-489b-a57d-6e8f5ae8c5fb",
   "metadata": {
    "tags": []
   },
   "outputs": [],
   "source": [
    "combined_df = pd.concat([singles_matches,we_le_pw_df,g2_df],axis = 1)"
   ]
  },
  {
   "cell_type": "markdown",
   "id": "129ee20f-d211-4fdc-bb05-efce22dea89c",
   "metadata": {},
   "source": [
    "###### I'll split the data into thirds so that the chunks are under the 100mb limit for github upload"
   ]
  },
  {
   "cell_type": "code",
   "execution_count": 20,
   "id": "b33f72a4-c9cc-45c9-9f58-df91d7ce8506",
   "metadata": {},
   "outputs": [],
   "source": [
    "n = combined_df.shape[0]\n",
    "combined_df_0 = combined_df.iloc[0:n*4//16,:]\n",
    "combined_df_1 = combined_df.iloc[n*4//16:n*8//16,:]\n",
    "combined_df_2 = combined_df.iloc[n*8//16:n*12//16,:]\n",
    "combined_df_3 = combined_df.iloc[n*12//16:,:]\n",
    "combined_dfs = [combined_df_0, combined_df_1, combined_df_2, combined_df_3]"
   ]
  },
  {
   "cell_type": "code",
   "execution_count": 21,
   "id": "47063382-b8e2-4603-bee9-990bab5c7e7e",
   "metadata": {},
   "outputs": [],
   "source": [
    "for i, df in enumerate(combined_dfs):\n",
    "    df.to_csv(f'../Data/combined_df_{i}.csv')"
   ]
  }
 ],
 "metadata": {
  "kernelspec": {
   "display_name": "Python 3 (ipykernel)",
   "language": "python",
   "name": "python3"
  },
  "language_info": {
   "codemirror_mode": {
    "name": "ipython",
    "version": 3
   },
   "file_extension": ".py",
   "mimetype": "text/x-python",
   "name": "python",
   "nbconvert_exporter": "python",
   "pygments_lexer": "ipython3",
   "version": "3.9.13"
  }
 },
 "nbformat": 4,
 "nbformat_minor": 5
}
