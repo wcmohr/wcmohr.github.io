{
 "cells": [
  {
   "cell_type": "markdown",
   "id": "466a9f7d-6d05-493b-bf7b-c0c53dbfb7b9",
   "metadata": {},
   "source": [
    "[ranking points predictions](https://hughchristensen.com/papers/academic_papers/clarke2000.pdf)"
   ]
  },
  {
   "cell_type": "markdown",
   "id": "4c71f11e-bfad-444c-8cf3-d0b6aa7f4ef0",
   "metadata": {},
   "source": [
    "[computational efficiency ideas](https://stackoverflow.com/questions/52673285/performance-of-pandas-apply-vs-np-vectorize-to-create-new-column-from-existing-c)"
   ]
  },
  {
   "cell_type": "markdown",
   "id": "2fbf0b19-96d8-4755-b9d9-ad089dad0803",
   "metadata": {},
   "source": [
    "[glicko-2 win probability](https://www.reddit.com/r/chess/comments/i0pnv1/glicko2_win_probability/)"
   ]
  },
  {
   "cell_type": "markdown",
   "id": "9b67a0cb-789c-44ce-96b8-ce0fcaf4bb98",
   "metadata": {},
   "source": [
    "[logistic function as probability of outcome coming from one of two normally distributed variables](https://stats.stackexchange.com/questions/459166/where-does-the-logistic-function-come-from/467427#467427)"
   ]
  },
  {
   "cell_type": "markdown",
   "id": "63a62ecf-67d9-4f88-8f87-be4b3e3ae738",
   "metadata": {},
   "source": [
    "###### medium articles"
   ]
  },
  {
   "cell_type": "markdown",
   "id": "8cebc0ca-ed17-40c8-b53a-bf7f821395af",
   "metadata": {},
   "source": [
    "[typescript elo implementation](https://mattmazzola.medium.com/implementing-the-elo-rating-system-a085f178e065)"
   ]
  },
  {
   "cell_type": "markdown",
   "id": "56d28b7d-abcc-427f-8709-5660449db0a6",
   "metadata": {},
   "source": [
    "[elo python implementation](https://towardsdatascience.com/rating-sports-teams-elo-vs-win-loss-d46ee57c1314)"
   ]
  },
  {
   "cell_type": "markdown",
   "id": "6fc580bc-8e3e-4695-aa61-5b11574107f7",
   "metadata": {},
   "source": [
    "[brier score w/ elo vs win/loss](https://towardsdatascience.com/rating-sports-teams-elo-vs-win-loss-d46ee57c1314)"
   ]
  },
  {
   "cell_type": "markdown",
   "id": "b448cf1f-9e1b-4f93-8815-d55a2878a2e8",
   "metadata": {},
   "source": [
    "[world cup simulation](https://russelllim22.medium.com/simulating-the-world-cup-finals-with-the-elo-rating-system-3b9d5996b1a9)"
   ]
  },
  {
   "cell_type": "markdown",
   "id": "73283d04-eb43-4606-945d-09300190e8ed",
   "metadata": {},
   "source": [
    "###### wikipedia"
   ]
  },
  {
   "cell_type": "markdown",
   "id": "babc1b5b-ee78-4662-b63c-c11a22a108ea",
   "metadata": {},
   "source": [
    "[normal distribution](https://en.wikipedia.org/wiki/Normal_distribution)"
   ]
  },
  {
   "cell_type": "markdown",
   "id": "84f6a7f3-42f2-447a-bddb-8404e8eea256",
   "metadata": {},
   "source": [
    "[elo rating system](https://en.wikipedia.org/wiki/Elo_rating_system#Theory)"
   ]
  },
  {
   "cell_type": "markdown",
   "id": "36731a26-dbe3-480b-ac67-5d90d8d0a897",
   "metadata": {},
   "source": [
    "[logistic distribution](https://en.wikipedia.org/wiki/Logistic_distribution)"
   ]
  },
  {
   "cell_type": "markdown",
   "id": "d5321a33-094f-46f9-8a02-5db72675226d",
   "metadata": {},
   "source": [
    "###### youtube"
   ]
  },
  {
   "cell_type": "markdown",
   "id": "5c4bc214-e9eb-4b02-bde1-22c83a7bf570",
   "metadata": {},
   "source": [
    "[elo in chess](https://www.youtube.com/watch?v=AsYfbmp0To0)"
   ]
  },
  {
   "cell_type": "code",
   "execution_count": null,
   "id": "b2b6ed32-39a0-400d-8fb0-ceb363f05b38",
   "metadata": {},
   "outputs": [],
   "source": []
  },
  {
   "cell_type": "markdown",
   "id": "4a322c64-ac8b-4416-95ab-2d17e0edf14a",
   "metadata": {},
   "source": [
    "###### other"
   ]
  },
  {
   "cell_type": "markdown",
   "id": "7720d0a1-b968-4945-8c6c-1b168966f506",
   "metadata": {},
   "source": [
    "[kaggle chess rating systems](https://www.kaggle.com/c/chess#description)"
   ]
  },
  {
   "cell_type": "markdown",
   "id": "475ada74-388c-42ff-ab63-b9d84f14bfc7",
   "metadata": {},
   "source": [
    "[elo in chess challenge](https://users.dimi.uniud.it/~massimo.franceschet/ns/syllabus/make/chess/chess.html)"
   ]
  },
  {
   "cell_type": "markdown",
   "id": "158b993f-79c5-40de-bc3a-e44aa8eabaf8",
   "metadata": {},
   "source": [
    "[Bradley_terry](https://squared2020.com/2017/11/09/bradley-terry-rankings-introduction-to-logistic-regression/#:~:text=The%20basic%20form%20of%20the,the%20matrix%20represents%20a%20game.)"
   ]
  },
  {
   "cell_type": "markdown",
   "id": "e0d8edfd-4366-448d-9350-2c7af8f1b385",
   "metadata": {},
   "source": [
    "###### papers"
   ]
  },
  {
   "cell_type": "markdown",
   "id": "da10a9a6-eede-44b9-bd8e-43ac5f293d8e",
   "metadata": {},
   "source": [
    "[A Comprehensive Guide to Chess Ratings](http://www.glicko.net/research/acjpaper.pdf)"
   ]
  },
  {
   "cell_type": "markdown",
   "id": "032d2d02-33ce-4bfb-9c2c-4b3503997124",
   "metadata": {},
   "source": [
    "explanation of logistic from normal\n",
    "\n",
    "@MISC {467427, TITLE = {Where does the logistic function come from?}, AUTHOR = {Igor F. (https://stats.stackexchange.com/users/169343/igor-f)}, HOWPUBLISHED = {Cross Validated}, NOTE = {URL:https://stats.stackexchange.com/q/467427 (version: 2020-05-21)}, EPRINT = {https://stats.stackexchange.com/q/467427}, URL = {https://stats.stackexchange.com/q/467427} }"
   ]
  },
  {
   "cell_type": "code",
   "execution_count": null,
   "id": "16df9cbe-1b8f-45cc-9347-b91353074991",
   "metadata": {},
   "outputs": [],
   "source": [
    "###### "
   ]
  },
  {
   "cell_type": "markdown",
   "id": "246ec212-aa47-4e90-8d2a-c6d3aa6c56b1",
   "metadata": {},
   "source": [
    "[PageRank for tennis](https://arxiv.org/pdf/1711.11122.pdf)"
   ]
  }
 ],
 "metadata": {
  "kernelspec": {
   "display_name": "Python 3 (ipykernel)",
   "language": "python",
   "name": "python3"
  },
  "language_info": {
   "codemirror_mode": {
    "name": "ipython",
    "version": 3
   },
   "file_extension": ".py",
   "mimetype": "text/x-python",
   "name": "python",
   "nbconvert_exporter": "python",
   "pygments_lexer": "ipython3",
   "version": "3.9.13"
  }
 },
 "nbformat": 4,
 "nbformat_minor": 5
}
